{
 "cells": [
  {
   "cell_type": "code",
   "execution_count": 1,
   "metadata": {
    "collapsed": true
   },
   "outputs": [],
   "source": [
    "import pandas as pd\n",
    "import numpy as np\n",
    "import matplotlib.pyplot as plt\n",
    "import seaborn as sns\n",
    "%matplotlib inline"
   ]
  },
  {
   "cell_type": "code",
   "execution_count": 2,
   "metadata": {
    "collapsed": true
   },
   "outputs": [],
   "source": [
    "# Load the data\n",
    "data=pd.read_csv('houzz_data_challenge_newsletters.csv',low_memory=False)"
   ]
  },
  {
   "cell_type": "code",
   "execution_count": 3,
   "metadata": {},
   "outputs": [
    {
     "data": {
      "text/html": [
       "<div>\n",
       "<table border=\"1\" class=\"dataframe\">\n",
       "  <thead>\n",
       "    <tr style=\"text-align: right;\">\n",
       "      <th></th>\n",
       "      <th>ts</th>\n",
       "      <th>nl_id</th>\n",
       "      <th>user_id</th>\n",
       "      <th>dt</th>\n",
       "      <th>hr</th>\n",
       "      <th>event_type</th>\n",
       "      <th>event_type_param</th>\n",
       "    </tr>\n",
       "  </thead>\n",
       "  <tbody>\n",
       "    <tr>\n",
       "      <th>0</th>\n",
       "      <td>1461110419</td>\n",
       "      <td>2853</td>\n",
       "      <td>4551</td>\n",
       "      <td>4/19/16</td>\n",
       "      <td>17</td>\n",
       "      <td>nlsent</td>\n",
       "      <td>0</td>\n",
       "    </tr>\n",
       "    <tr>\n",
       "      <th>1</th>\n",
       "      <td>1461715220</td>\n",
       "      <td>2885</td>\n",
       "      <td>4551</td>\n",
       "      <td>4/26/16</td>\n",
       "      <td>17</td>\n",
       "      <td>nlsent</td>\n",
       "      <td>0</td>\n",
       "    </tr>\n",
       "    <tr>\n",
       "      <th>2</th>\n",
       "      <td>1461456022</td>\n",
       "      <td>2873</td>\n",
       "      <td>4551</td>\n",
       "      <td>4/23/16</td>\n",
       "      <td>17</td>\n",
       "      <td>nlsent</td>\n",
       "      <td>0</td>\n",
       "    </tr>\n",
       "    <tr>\n",
       "      <th>3</th>\n",
       "      <td>1461110419</td>\n",
       "      <td>2853</td>\n",
       "      <td>6159</td>\n",
       "      <td>4/19/16</td>\n",
       "      <td>17</td>\n",
       "      <td>nlsent</td>\n",
       "      <td>0</td>\n",
       "    </tr>\n",
       "    <tr>\n",
       "      <th>4</th>\n",
       "      <td>1461715220</td>\n",
       "      <td>2885</td>\n",
       "      <td>6159</td>\n",
       "      <td>4/26/16</td>\n",
       "      <td>17</td>\n",
       "      <td>nlsent</td>\n",
       "      <td>0</td>\n",
       "    </tr>\n",
       "  </tbody>\n",
       "</table>\n",
       "</div>"
      ],
      "text/plain": [
       "           ts  nl_id  user_id       dt  hr event_type event_type_param\n",
       "0  1461110419   2853     4551  4/19/16  17     nlsent                0\n",
       "1  1461715220   2885     4551  4/26/16  17     nlsent                0\n",
       "2  1461456022   2873     4551  4/23/16  17     nlsent                0\n",
       "3  1461110419   2853     6159  4/19/16  17     nlsent                0\n",
       "4  1461715220   2885     6159  4/26/16  17     nlsent                0"
      ]
     },
     "execution_count": 3,
     "metadata": {},
     "output_type": "execute_result"
    }
   ],
   "source": [
    "# Overview the data\n",
    "data.head()"
   ]
  },
  {
   "cell_type": "code",
   "execution_count": 4,
   "metadata": {},
   "outputs": [
    {
     "name": "stdout",
     "output_type": "stream",
     "text": [
      "<class 'pandas.core.frame.DataFrame'>\n",
      "RangeIndex: 164071 entries, 0 to 164070\n",
      "Data columns (total 7 columns):\n",
      "ts                  164071 non-null int64\n",
      "nl_id               164071 non-null int64\n",
      "user_id             164071 non-null int64\n",
      "dt                  164071 non-null object\n",
      "hr                  164071 non-null int64\n",
      "event_type          164071 non-null object\n",
      "event_type_param    164071 non-null object\n",
      "dtypes: int64(4), object(3)\n",
      "memory usage: 8.8+ MB\n"
     ]
    }
   ],
   "source": [
    "# Overview type of data and basic info about the dataset\n",
    "\n",
    "data.info()"
   ]
  },
  {
   "cell_type": "markdown",
   "metadata": {},
   "source": [
    "### Question_1"
   ]
  },
  {
   "cell_type": "code",
   "execution_count": 10,
   "metadata": {},
   "outputs": [
    {
     "data": {
      "text/plain": [
       "event_type  nl_id\n",
       "nllc        2853         1\n",
       "            2873      2141\n",
       "            2885      1486\n",
       "            2912       713\n",
       "nlpv        2853      9019\n",
       "            2873     11034\n",
       "            2885      9401\n",
       "            2912      3100\n",
       "nlsent      2853     31401\n",
       "            2873     31674\n",
       "            2885     31902\n",
       "            2912     32199\n",
       "Name: nl_id, dtype: int64"
      ]
     },
     "execution_count": 10,
     "metadata": {},
     "output_type": "execute_result"
    }
   ],
   "source": [
    "# Count the number of newsletters sent vs opended \n",
    "\n",
    "data.groupby(['event_type','nl_id'])['nl_id'].count()"
   ]
  },
  {
   "cell_type": "markdown",
   "metadata": {},
   "source": [
    "For id=2885, there were 31902 letters sent, and among them 9401 were opened.\n",
    "\n",
    "For id=2912, there were 32199 letters sent, and among them 3100 were opened."
   ]
  },
  {
   "cell_type": "code",
   "execution_count": 12,
   "metadata": {},
   "outputs": [
    {
     "data": {
      "text/plain": [
       "nl_id  event_type\n",
       "2853   nllc              1\n",
       "       nlpv           6171\n",
       "       nlsent        31401\n",
       "2873   nllc           1433\n",
       "       nlpv           6532\n",
       "       nlsent        31674\n",
       "2885   nllc            939\n",
       "       nlpv           5940\n",
       "       nlsent        31902\n",
       "2912   nllc            498\n",
       "       nlpv           2228\n",
       "       nlsent        32199\n",
       "Name: user_id, dtype: int64"
      ]
     },
     "execution_count": 12,
     "metadata": {},
     "output_type": "execute_result"
    }
   ],
   "source": [
    "# Compute the open rate by counting the unique user_id corresponding to\n",
    "# each nl_id and event_type pair\n",
    "\n",
    "data.groupby(['nl_id','event_type'])['user_id'].nunique()"
   ]
  },
  {
   "cell_type": "code",
   "execution_count": 13,
   "metadata": {},
   "outputs": [
    {
     "name": "stdout",
     "output_type": "stream",
     "text": [
      "Open rate for nl_id=2885 is 0.1861952228700395\n",
      "Open rate for nl_id=2885 is 0.0691946954874375\n"
     ]
    }
   ],
   "source": [
    "open_rate_2885=5940/31902\n",
    "print('Open rate for nl_id=2885 is {}'.format(open_rate_2885))\n",
    "open_rate_2912=2228/32199\n",
    "print('Open rate for nl_id=2885 is {}'.format(open_rate_2912))"
   ]
  },
  {
   "cell_type": "markdown",
   "metadata": {},
   "source": [
    "### Question_2"
   ]
  },
  {
   "cell_type": "markdown",
   "metadata": {},
   "source": [
    "For newsletter 2853. Note: subsequent newsletter will be analized in a similar way."
   ]
  },
  {
   "cell_type": "code",
   "execution_count": 143,
   "metadata": {},
   "outputs": [
    {
     "name": "stderr",
     "output_type": "stream",
     "text": [
      "C:\\Users\\caesarliu\\Anaconda3\\envs\\py35\\lib\\site-packages\\pandas\\core\\generic.py:2773: SettingWithCopyWarning: \n",
      "A value is trying to be set on a copy of a slice from a DataFrame.\n",
      "Try using .loc[row_indexer,col_indexer] = value instead\n",
      "\n",
      "See the caveats in the documentation: http://pandas.pydata.org/pandas-docs/stable/indexing.html#indexing-view-versus-copy\n",
      "  self[name] = value\n"
     ]
    }
   ],
   "source": [
    "# Isolate data relevant to target newsletter\n",
    "\n",
    "nl_2853=data[data.nl_id==2853]\n",
    "nl_2853.dt=pd.to_datetime(nl_2853['dt'])"
   ]
  },
  {
   "cell_type": "code",
   "execution_count": 144,
   "metadata": {
    "collapsed": true
   },
   "outputs": [],
   "source": [
    "num_user_2853=nl_2853.user_id.nunique()"
   ]
  },
  {
   "cell_type": "code",
   "execution_count": 145,
   "metadata": {},
   "outputs": [
    {
     "data": {
      "text/plain": [
       "31403"
      ]
     },
     "execution_count": 145,
     "metadata": {},
     "output_type": "execute_result"
    }
   ],
   "source": [
    "num_user_2853 # Number of unique users for letter 2853"
   ]
  },
  {
   "cell_type": "code",
   "execution_count": 146,
   "metadata": {},
   "outputs": [],
   "source": [
    "ID=(nl_2853[nl_2853.event_type=='nlpv'])['user_id'].unique()# Users who actually viewed the email"
   ]
  },
  {
   "cell_type": "code",
   "execution_count": 147,
   "metadata": {},
   "outputs": [],
   "source": [
    "# Compute the percentage\n",
    "Count=np.zeros((1,7))\n",
    "\n",
    "for i in ID:\n",
    "    L=nl_2853[nl_2853['user_id']==i]\n",
    "    time_sent=(L[L.event_type=='nlsent']).dt\n",
    "    if len(time_sent)==0:\n",
    "        continue\n",
    "    time_view=(L[L.event_type=='nlpv']).dt\n",
    "    T=min(time_view)-min(time_sent)\n",
    "    T=T/np.timedelta64(1,'D')\n",
    "    if T>=0 and T<=1:\n",
    "        Count=Count+1\n",
    "    elif T<=2 and T>1:\n",
    "        Count[:,1:]=Count[:,1:]+1\n",
    "    elif T<=3 and T>2:\n",
    "        Count[:,2:]=Count[:,2:]+1\n",
    "    elif T<=4 and T>3:\n",
    "        Count[:,3:]=Count[:,3:]+1\n",
    "    elif T<=5 and T>4:\n",
    "        Count[:,4:]=Count[:,4:]+1\n",
    "    elif T<=6 and T>5:\n",
    "        Count[:,5:]=Count[:,5:]+1\n",
    "    elif T<=7 and T>6:\n",
    "        Count[:,6:]=Count[:,6:]+1\n",
    "\n"
   ]
  },
  {
   "cell_type": "code",
   "execution_count": 148,
   "metadata": {
    "collapsed": true
   },
   "outputs": [],
   "source": [
    "Count=Count/num_user_2853"
   ]
  },
  {
   "cell_type": "code",
   "execution_count": 149,
   "metadata": {},
   "outputs": [],
   "source": [
    "Open=pd.DataFrame({'percent':Count[0,:],'Within_Days':[1,2,3,4,5,6,7]},index=[0,1,2,3,4,5,6])"
   ]
  },
  {
   "cell_type": "code",
   "execution_count": 91,
   "metadata": {},
   "outputs": [],
   "source": [
    "# Visualize the results\n",
    "\n",
    "sns.set_style('whitegrid')"
   ]
  },
  {
   "cell_type": "code",
   "execution_count": 150,
   "metadata": {},
   "outputs": [
    {
     "data": {
      "image/png": "[encoded data removed]",
      "text/plain": [
       "<matplotlib.figure.Figure at 0x1b71e1210f0>"
      ]
     },
     "metadata": {},
     "output_type": "display_data"
    },
    {
     "data": {
      "text/plain": [
       "<matplotlib.figure.Figure at 0x1b71e624438>"
      ]
     },
     "metadata": {},
     "output_type": "display_data"
    }
   ],
   "source": [
    "\n",
    "fig=plt.figure(figsize=(12,6))\n",
    "ax=plt.subplot2grid((1,1),(0,0),rowspan=1,colspan=1)\n",
    "sns.barplot(x='Within_Days',y='percent',data=Open)\n",
    "plt.title('Newsletter-2853')\n",
    "plt.show()\n",
    "plt.gcf().clear()"
   ]
  },
  {
   "cell_type": "markdown",
   "metadata": {},
   "source": [
    "For newsletter 2873"
   ]
  },
  {
   "cell_type": "code",
   "execution_count": 141,
   "metadata": {},
   "outputs": [
    {
     "name": "stderr",
     "output_type": "stream",
     "text": [
      "C:\\Users\\caesarliu\\Anaconda3\\envs\\py35\\lib\\site-packages\\pandas\\core\\generic.py:2773: SettingWithCopyWarning: \n",
      "A value is trying to be set on a copy of a slice from a DataFrame.\n",
      "Try using .loc[row_indexer,col_indexer] = value instead\n",
      "\n",
      "See the caveats in the documentation: http://pandas.pydata.org/pandas-docs/stable/indexing.html#indexing-view-versus-copy\n",
      "  self[name] = value\n"
     ]
    }
   ],
   "source": [
    "nl_2873=data[data.nl_id==2873]\n",
    "nl_2873.dt=pd.to_datetime(nl_2873['dt'])\n",
    "num_user_2873=nl_2873.user_id.nunique()\n",
    "ID=(nl_2873[nl_2873.event_type=='nlpv'])['user_id'].unique()\n",
    "\n",
    "\n",
    "Count=np.zeros((1,7))\n",
    "\n",
    "for i in ID:\n",
    "    L=nl_2873[nl_2873['user_id']==i]\n",
    "    time_sent=(L[L.event_type=='nlsent']).dt\n",
    "    if len(time_sent)==0:\n",
    "        continue\n",
    "    time_view=(L[L.event_type=='nlpv']).dt\n",
    "    T=min(time_view)-min(time_sent)\n",
    "    T=T/np.timedelta64(1,'D')\n",
    "    if T>=0 and T<=1:\n",
    "        Count=Count+1\n",
    "    elif T<=2 and T>1:\n",
    "        Count[:,1:]=Count[:,1:]+1\n",
    "    elif T<=3 and T>2:\n",
    "        Count[:,2:]=Count[:,2:]+1\n",
    "    elif T<=4 and T>3:\n",
    "        Count[:,3:]=Count[:,3:]+1\n",
    "    elif T<=5 and T>4:\n",
    "        Count[:,4:]=Count[:,4:]+1\n",
    "    elif T<=6 and T>5:\n",
    "        Count[:,5:]=Count[:,5:]+1\n",
    "    elif T<=7 and T>6:\n",
    "        Count[:,6:]=Count[:,6:]+1\n",
    "\n",
    "        \n",
    "Count=Count/num_user_2873\n",
    "Open=pd.DataFrame({'percent':Count[0,:],'Within_Days':[1,2,3,4,5,6,7]},index=[0,1,2,3,4,5,6])"
   ]
  },
  {
   "cell_type": "code",
   "execution_count": 142,
   "metadata": {},
   "outputs": [
    {
     "data": {
      "image/png": "[encoded data removed]",
      "text/plain": [
       "<matplotlib.figure.Figure at 0x1b71dea7a58>"
      ]
     },
     "metadata": {},
     "output_type": "display_data"
    },
    {
     "data": {
      "text/plain": [
       "<matplotlib.figure.Figure at 0x1b71dec71d0>"
      ]
     },
     "metadata": {},
     "output_type": "display_data"
    }
   ],
   "source": [
    "fig=plt.figure(figsize=(12,6))\n",
    "ax=plt.subplot2grid((1,1),(0,0),rowspan=1,colspan=1)\n",
    "sns.barplot(x='Within_Days',y='percent',data=Open)\n",
    "plt.title('Newsletter-2873')\n",
    "plt.show()\n",
    "plt.gcf().clear()"
   ]
  },
  {
   "cell_type": "markdown",
   "metadata": {},
   "source": [
    "For newsletter 2885"
   ]
  },
  {
   "cell_type": "code",
   "execution_count": 139,
   "metadata": {},
   "outputs": [
    {
     "name": "stderr",
     "output_type": "stream",
     "text": [
      "C:\\Users\\caesarliu\\Anaconda3\\envs\\py35\\lib\\site-packages\\pandas\\core\\generic.py:2773: SettingWithCopyWarning: \n",
      "A value is trying to be set on a copy of a slice from a DataFrame.\n",
      "Try using .loc[row_indexer,col_indexer] = value instead\n",
      "\n",
      "See the caveats in the documentation: http://pandas.pydata.org/pandas-docs/stable/indexing.html#indexing-view-versus-copy\n",
      "  self[name] = value\n"
     ]
    }
   ],
   "source": [
    "nl_2885=data[data.nl_id==2885]\n",
    "nl_2885.dt=pd.to_datetime(nl_2885['dt'])\n",
    "num_user_2885=nl_2885.user_id.nunique()\n",
    "ID=(nl_2885[nl_2885.event_type=='nlpv'])['user_id'].unique()\n",
    "\n",
    "\n",
    "Count=np.zeros((1,7))\n",
    "\n",
    "for i in ID:\n",
    "    L=nl_2885[nl_2885['user_id']==i]\n",
    "    time_sent=(L[L.event_type=='nlsent']).dt\n",
    "    if len(time_sent)==0:\n",
    "        continue\n",
    "    time_view=(L[L.event_type=='nlpv']).dt\n",
    "    T=min(time_view)-min(time_sent)\n",
    "    T=T/np.timedelta64(1,'D')\n",
    "    if T>=0 and T<=1:\n",
    "        Count=Count+1\n",
    "    elif T<=2 and T>1:\n",
    "        Count[:,1:]=Count[:,1:]+1\n",
    "    elif T<=3 and T>2:\n",
    "        Count[:,2:]=Count[:,2:]+1\n",
    "    elif T<=4 and T>3:\n",
    "        Count[:,3:]=Count[:,3:]+1\n",
    "    elif T<=5 and T>4:\n",
    "        Count[:,4:]=Count[:,4:]+1\n",
    "    elif T<=6 and T>5:\n",
    "        Count[:,5:]=Count[:,5:]+1\n",
    "    elif T<=7 and T>6:\n",
    "        Count[:,6:]=Count[:,6:]+1\n",
    "\n",
    "        \n",
    "Count=Count/num_user_2885\n",
    "Open=pd.DataFrame({'percent':Count[0,:],'Within_Days':[1,2,3,4,5,6,7]},index=[0,1,2,3,4,5,6])\n"
   ]
  },
  {
   "cell_type": "code",
   "execution_count": 140,
   "metadata": {},
   "outputs": [
    {
     "data": {
      "image/png": "[encoded data removed]",
      "text/plain": [
       "<matplotlib.figure.Figure at 0x1b71e1080b8>"
      ]
     },
     "metadata": {},
     "output_type": "display_data"
    },
    {
     "data": {
      "text/plain": [
       "<matplotlib.figure.Figure at 0x1b71e145c50>"
      ]
     },
     "metadata": {},
     "output_type": "display_data"
    }
   ],
   "source": [
    "fig=plt.figure(figsize=(12,6))\n",
    "ax=plt.subplot2grid((1,1),(0,0),rowspan=1,colspan=1)\n",
    "sns.barplot(x='Within_Days',y='percent',data=Open)\n",
    "plt.title('Newsletter-2885')\n",
    "plt.show()\n",
    "plt.gcf().clear()"
   ]
  },
  {
   "cell_type": "markdown",
   "metadata": {},
   "source": [
    "For newsletter 2912"
   ]
  },
  {
   "cell_type": "code",
   "execution_count": 135,
   "metadata": {},
   "outputs": [
    {
     "name": "stderr",
     "output_type": "stream",
     "text": [
      "C:\\Users\\caesarliu\\Anaconda3\\envs\\py35\\lib\\site-packages\\pandas\\core\\generic.py:2773: SettingWithCopyWarning: \n",
      "A value is trying to be set on a copy of a slice from a DataFrame.\n",
      "Try using .loc[row_indexer,col_indexer] = value instead\n",
      "\n",
      "See the caveats in the documentation: http://pandas.pydata.org/pandas-docs/stable/indexing.html#indexing-view-versus-copy\n",
      "  self[name] = value\n"
     ]
    }
   ],
   "source": [
    "nl_2912=data[data.nl_id==2912]\n",
    "nl_2912.dt=pd.to_datetime(nl_2912['dt'])\n",
    "num_user_2912=nl_2912.user_id.nunique()\n",
    "ID=(nl_2912[nl_2912.event_type=='nlpv'])['user_id'].unique()\n",
    "\n",
    "\n",
    "Count=np.zeros((1,7))\n",
    "\n",
    "for i in ID:\n",
    "    L=nl_2912[nl_2912['user_id']==i]\n",
    "    time_sent=(L[L.event_type=='nlsent']).dt\n",
    "    if len(time_sent)==0:\n",
    "        continue\n",
    "    time_view=(L[L.event_type=='nlpv']).dt\n",
    "    T=min(time_view)-min(time_sent)\n",
    "    T=T/np.timedelta64(1,'D')\n",
    "    if T>=0 and T<=1:\n",
    "        Count=Count+1\n",
    "    elif T<=2 and T>1:\n",
    "        Count[:,1:]=Count[:,1:]+1\n",
    "    elif T<=3 and T>2:\n",
    "        Count[:,2:]=Count[:,2:]+1\n",
    "    elif T<=4 and T>3:\n",
    "        Count[:,3:]=Count[:,3:]+1\n",
    "    elif T<=5 and T>4:\n",
    "        Count[:,4:]=Count[:,4:]+1\n",
    "    elif T<=6 and T>5:\n",
    "        Count[:,5:]=Count[:,5:]+1\n",
    "    elif T<=7 and T>6:\n",
    "        Count[:,6:]=Count[:,6:]+1"
   ]
  },
  {
   "cell_type": "code",
   "execution_count": 137,
   "metadata": {
    "collapsed": true
   },
   "outputs": [],
   "source": [
    "Count=Count/num_user_2912\n",
    "Open=pd.DataFrame({'percent':Count[0,:],'Within_Days':[1,2,3,4,5,6,7]},index=[0,1,2,3,4,5,6])"
   ]
  },
  {
   "cell_type": "code",
   "execution_count": 138,
   "metadata": {},
   "outputs": [
    {
     "data": {
      "image/png": "[encoded data removed]",
      "text/plain": [
       "<matplotlib.figure.Figure at 0x1b71f9803c8>"
      ]
     },
     "metadata": {},
     "output_type": "display_data"
    },
    {
     "data": {
      "text/plain": [
       "<matplotlib.figure.Figure at 0x1b71decacf8>"
      ]
     },
     "metadata": {},
     "output_type": "display_data"
    }
   ],
   "source": [
    "fig=plt.figure(figsize=(12,6))\n",
    "ax=plt.subplot2grid((1,1),(0,0),rowspan=1,colspan=1)\n",
    "sns.barplot(x='Within_Days',y='percent',data=Open)\n",
    "plt.title('Newsletter-2912')\n",
    "plt.show()\n",
    "plt.gcf().clear()"
   ]
  },
  {
   "cell_type": "markdown",
   "metadata": {},
   "source": [
    "In genearl, letter 2873 seems to have the best open rate"
   ]
  },
  {
   "cell_type": "markdown",
   "metadata": {},
   "source": [
    "### Question_3"
   ]
  },
  {
   "cell_type": "markdown",
   "metadata": {},
   "source": [
    "For newsletter 2873"
   ]
  },
  {
   "cell_type": "code",
   "execution_count": 167,
   "metadata": {
    "collapsed": true
   },
   "outputs": [],
   "source": [
    "nl_2873=data[data.nl_id==2873]\n",
    "num_user_2873=nl_2873['user_id'].nunique()"
   ]
  },
  {
   "cell_type": "code",
   "execution_count": 159,
   "metadata": {},
   "outputs": [],
   "source": [
    "nl_2873_clicked=nl_2873[nl_2873.event_type=='nllc']"
   ]
  },
  {
   "cell_type": "code",
   "execution_count": 156,
   "metadata": {},
   "outputs": [
    {
     "data": {
      "text/plain": [
       "array(['g0', 'g1', 'g5', 'g4', 'g7', 'g3', 'g2', 'g6'], dtype=object)"
      ]
     },
     "execution_count": 156,
     "metadata": {},
     "output_type": "execute_result"
    }
   ],
   "source": [
    "# Obtain unique event types\n",
    "nl_2873_clicked.event_type_param.unique()"
   ]
  },
  {
   "cell_type": "code",
   "execution_count": 160,
   "metadata": {
    "collapsed": true
   },
   "outputs": [],
   "source": [
    "click_type=list(nl_2873_clicked.event_type_param.unique())"
   ]
  },
  {
   "cell_type": "code",
   "execution_count": 164,
   "metadata": {
    "collapsed": true
   },
   "outputs": [],
   "source": [
    "# Create a container and fill it with CTR for different positions\n",
    "CTR=np.zeros((8))\n",
    "for index,Cli in enumerate(click_type):\n",
    "    num_clicks=(nl_2873_clicked[nl_2873_clicked.event_type_param==Cli])['user_id'].nunique()\n",
    "    ctr=num_clicks/num_user_2873\n",
    "    CTR[index]+=ctr\n",
    "    "
   ]
  },
  {
   "cell_type": "code",
   "execution_count": 165,
   "metadata": {},
   "outputs": [],
   "source": [
    "CTR_Date=pd.DataFrame({'click_ratio':CTR,'Position':click_type})"
   ]
  },
  {
   "cell_type": "code",
   "execution_count": 166,
   "metadata": {},
   "outputs": [
    {
     "data": {
      "image/png": "[encoded data removed]",
      "text/plain": [
       "<matplotlib.figure.Figure at 0x1b71e086e10>"
      ]
     },
     "metadata": {},
     "output_type": "display_data"
    },
    {
     "data": {
      "text/plain": [
       "<matplotlib.figure.Figure at 0x1b71e6a8be0>"
      ]
     },
     "metadata": {},
     "output_type": "display_data"
    }
   ],
   "source": [
    "fig=plt.figure(figsize=(12,6))\n",
    "ax=plt.subplot2grid((1,1),(0,0),rowspan=1,colspan=1)\n",
    "sns.barplot(x='Position',y='click_ratio',data=CTR_Date)\n",
    "plt.title('CTR of letter 2873')\n",
    "plt.show()\n",
    "plt.gcf().clear()"
   ]
  },
  {
   "cell_type": "markdown",
   "metadata": {},
   "source": [
    "For newsletter 2885"
   ]
  },
  {
   "cell_type": "code",
   "execution_count": 169,
   "metadata": {},
   "outputs": [],
   "source": [
    "nl_2885=data[data.nl_id==2885]\n",
    "num_user_2885=nl_2885['user_id'].nunique()"
   ]
  },
  {
   "cell_type": "code",
   "execution_count": 170,
   "metadata": {
    "collapsed": true
   },
   "outputs": [],
   "source": [
    "nl_2885_clicked=nl_2885[nl_2885.event_type=='nllc']\n",
    "click_type=list(nl_2885_clicked.event_type_param.unique())"
   ]
  },
  {
   "cell_type": "code",
   "execution_count": 171,
   "metadata": {
    "collapsed": true
   },
   "outputs": [],
   "source": [
    "CTR=np.zeros((8))\n",
    "for index,Cli in enumerate(click_type):\n",
    "    num_clicks=(nl_2885_clicked[nl_2885_clicked.event_type_param==Cli])['user_id'].nunique()\n",
    "    ctr=num_clicks/num_user_2885\n",
    "    CTR[index]+=ctr\n",
    "CTR_Date=pd.DataFrame({'click_ratio':CTR,'Position':click_type})  "
   ]
  },
  {
   "cell_type": "code",
   "execution_count": 172,
   "metadata": {},
   "outputs": [
    {
     "data": {
      "image/png": "[encoded data removed]",
      "text/plain": [
       "<matplotlib.figure.Figure at 0x1b71f80d5c0>"
      ]
     },
     "metadata": {},
     "output_type": "display_data"
    },
    {
     "data": {
      "text/plain": [
       "<matplotlib.figure.Figure at 0x1b71e651320>"
      ]
     },
     "metadata": {},
     "output_type": "display_data"
    }
   ],
   "source": [
    "fig=plt.figure(figsize=(12,6))\n",
    "ax=plt.subplot2grid((1,1),(0,0),rowspan=1,colspan=1)\n",
    "sns.barplot(x='Position',y='click_ratio',data=CTR_Date)\n",
    "plt.title('CTR of letter 2885')\n",
    "plt.show()\n",
    "plt.gcf().clear()"
   ]
  },
  {
   "cell_type": "markdown",
   "metadata": {},
   "source": [
    "### Question_4"
   ]
  },
  {
   "cell_type": "markdown",
   "metadata": {},
   "source": [
    "\n",
    "The first metric of interest can be the difference between $\\%$ of users opened the email within first couple of days such as day_1, day_2 or day_3, and $\\%$ of users opened the email within later days such as day_6 or day_7.\n",
    "\n",
    "The intuition behind this metric is a well performed newsletter should have the ability to immediately pique the interest of the target audience, which would result in above described difference being very small. On the other hand, a small difference can also mean an newsletter is very ill-received as targets might not bother opening them not all. Therefore, above metric can be informative about those newsletter which are either very well-received, or very poorly received.\n",
    "\n",
    "\n",
    "The second metric of interest might be the time a target spent viewing the newsletter, which can be approximately as the interval between target cliked open the newsletter and exited it.\n",
    "\n",
    "The intuition behind this one is targets should natrually spend more time on the newsletter, if it's well received."
   ]
  },
  {
   "cell_type": "code",
   "execution_count": null,
   "metadata": {
    "collapsed": true
   },
   "outputs": [],
   "source": []
  }
 ],
 "metadata": {
  "kernelspec": {
   "display_name": "Python 3",
   "language": "python",
   "name": "python3"
  },
  "language_info": {
   "codemirror_mode": {
    "name": "ipython",
    "version": 3
   },
   "file_extension": ".py",
   "mimetype": "text/x-python",
   "name": "python",
   "nbconvert_exporter": "python",
   "pygments_lexer": "ipython3",
   "version": "3.5.2"
  }
 },
 "nbformat": 4,
 "nbformat_minor": 2
}
