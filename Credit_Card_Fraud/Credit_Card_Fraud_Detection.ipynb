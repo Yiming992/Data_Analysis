{
 "cells": [
  {
   "cell_type": "markdown",
   "metadata": {},
   "source": [
    "In this notebook, I will present my analysis of the Credit Card Fraud Detection dataset from Kaggle. The data set can be found at https://www.kaggle.com/dalpozz/creditcardfraud"
   ]
  },
  {
   "cell_type": "code",
   "execution_count": 1,
   "metadata": {
    "collapsed": true
   },
   "outputs": [],
   "source": [
    "# Import necessary modules\n",
    "\n",
    "import numpy as np\n",
    "import pandas as pd\n",
    "import lightgbm as lgb"
   ]
  },
  {
   "cell_type": "code",
   "execution_count": 2,
   "metadata": {
    "collapsed": true
   },
   "outputs": [],
   "source": [
    "import matplotlib.pyplot as plt\n",
    "import seaborn as sns"
   ]
  },
  {
   "cell_type": "code",
   "execution_count": 3,
   "metadata": {
    "collapsed": true
   },
   "outputs": [],
   "source": [
    "data=pd.read_csv('creditcard.csv')# Load the data"
   ]
  },
  {
   "cell_type": "code",
   "execution_count": 4,
   "metadata": {
    "scrolled": true
   },
   "outputs": [
    {
     "data": {
      "text/html": [
       "<div>\n",
       "<table border=\"1\" class=\"dataframe\">\n",
       "  <thead>\n",
       "    <tr style=\"text-align: right;\">\n",
       "      <th></th>\n",
       "      <th>Time</th>\n",
       "      <th>V1</th>\n",
       "      <th>V2</th>\n",
       "      <th>V3</th>\n",
       "      <th>V4</th>\n",
       "      <th>V5</th>\n",
       "      <th>V6</th>\n",
       "      <th>V7</th>\n",
       "      <th>V8</th>\n",
       "      <th>V9</th>\n",
       "      <th>...</th>\n",
       "      <th>V21</th>\n",
       "      <th>V22</th>\n",
       "      <th>V23</th>\n",
       "      <th>V24</th>\n",
       "      <th>V25</th>\n",
       "      <th>V26</th>\n",
       "      <th>V27</th>\n",
       "      <th>V28</th>\n",
       "      <th>Amount</th>\n",
       "      <th>Class</th>\n",
       "    </tr>\n",
       "  </thead>\n",
       "  <tbody>\n",
       "    <tr>\n",
       "      <th>0</th>\n",
       "      <td>0.0</td>\n",
       "      <td>-1.359807</td>\n",
       "      <td>-0.072781</td>\n",
       "      <td>2.536347</td>\n",
       "      <td>1.378155</td>\n",
       "      <td>-0.338321</td>\n",
       "      <td>0.462388</td>\n",
       "      <td>0.239599</td>\n",
       "      <td>0.098698</td>\n",
       "      <td>0.363787</td>\n",
       "      <td>...</td>\n",
       "      <td>-0.018307</td>\n",
       "      <td>0.277838</td>\n",
       "      <td>-0.110474</td>\n",
       "      <td>0.066928</td>\n",
       "      <td>0.128539</td>\n",
       "      <td>-0.189115</td>\n",
       "      <td>0.133558</td>\n",
       "      <td>-0.021053</td>\n",
       "      <td>149.62</td>\n",
       "      <td>0</td>\n",
       "    </tr>\n",
       "    <tr>\n",
       "      <th>1</th>\n",
       "      <td>0.0</td>\n",
       "      <td>1.191857</td>\n",
       "      <td>0.266151</td>\n",
       "      <td>0.166480</td>\n",
       "      <td>0.448154</td>\n",
       "      <td>0.060018</td>\n",
       "      <td>-0.082361</td>\n",
       "      <td>-0.078803</td>\n",
       "      <td>0.085102</td>\n",
       "      <td>-0.255425</td>\n",
       "      <td>...</td>\n",
       "      <td>-0.225775</td>\n",
       "      <td>-0.638672</td>\n",
       "      <td>0.101288</td>\n",
       "      <td>-0.339846</td>\n",
       "      <td>0.167170</td>\n",
       "      <td>0.125895</td>\n",
       "      <td>-0.008983</td>\n",
       "      <td>0.014724</td>\n",
       "      <td>2.69</td>\n",
       "      <td>0</td>\n",
       "    </tr>\n",
       "    <tr>\n",
       "      <th>2</th>\n",
       "      <td>1.0</td>\n",
       "      <td>-1.358354</td>\n",
       "      <td>-1.340163</td>\n",
       "      <td>1.773209</td>\n",
       "      <td>0.379780</td>\n",
       "      <td>-0.503198</td>\n",
       "      <td>1.800499</td>\n",
       "      <td>0.791461</td>\n",
       "      <td>0.247676</td>\n",
       "      <td>-1.514654</td>\n",
       "      <td>...</td>\n",
       "      <td>0.247998</td>\n",
       "      <td>0.771679</td>\n",
       "      <td>0.909412</td>\n",
       "      <td>-0.689281</td>\n",
       "      <td>-0.327642</td>\n",
       "      <td>-0.139097</td>\n",
       "      <td>-0.055353</td>\n",
       "      <td>-0.059752</td>\n",
       "      <td>378.66</td>\n",
       "      <td>0</td>\n",
       "    </tr>\n",
       "    <tr>\n",
       "      <th>3</th>\n",
       "      <td>1.0</td>\n",
       "      <td>-0.966272</td>\n",
       "      <td>-0.185226</td>\n",
       "      <td>1.792993</td>\n",
       "      <td>-0.863291</td>\n",
       "      <td>-0.010309</td>\n",
       "      <td>1.247203</td>\n",
       "      <td>0.237609</td>\n",
       "      <td>0.377436</td>\n",
       "      <td>-1.387024</td>\n",
       "      <td>...</td>\n",
       "      <td>-0.108300</td>\n",
       "      <td>0.005274</td>\n",
       "      <td>-0.190321</td>\n",
       "      <td>-1.175575</td>\n",
       "      <td>0.647376</td>\n",
       "      <td>-0.221929</td>\n",
       "      <td>0.062723</td>\n",
       "      <td>0.061458</td>\n",
       "      <td>123.50</td>\n",
       "      <td>0</td>\n",
       "    </tr>\n",
       "    <tr>\n",
       "      <th>4</th>\n",
       "      <td>2.0</td>\n",
       "      <td>-1.158233</td>\n",
       "      <td>0.877737</td>\n",
       "      <td>1.548718</td>\n",
       "      <td>0.403034</td>\n",
       "      <td>-0.407193</td>\n",
       "      <td>0.095921</td>\n",
       "      <td>0.592941</td>\n",
       "      <td>-0.270533</td>\n",
       "      <td>0.817739</td>\n",
       "      <td>...</td>\n",
       "      <td>-0.009431</td>\n",
       "      <td>0.798278</td>\n",
       "      <td>-0.137458</td>\n",
       "      <td>0.141267</td>\n",
       "      <td>-0.206010</td>\n",
       "      <td>0.502292</td>\n",
       "      <td>0.219422</td>\n",
       "      <td>0.215153</td>\n",
       "      <td>69.99</td>\n",
       "      <td>0</td>\n",
       "    </tr>\n",
       "  </tbody>\n",
       "</table>\n",
       "<p>5 rows × 31 columns</p>\n",
       "</div>"
      ],
      "text/plain": [
       "   Time        V1        V2        V3        V4        V5        V6        V7  \\\n",
       "0   0.0 -1.359807 -0.072781  2.536347  1.378155 -0.338321  0.462388  0.239599   \n",
       "1   0.0  1.191857  0.266151  0.166480  0.448154  0.060018 -0.082361 -0.078803   \n",
       "2   1.0 -1.358354 -1.340163  1.773209  0.379780 -0.503198  1.800499  0.791461   \n",
       "3   1.0 -0.966272 -0.185226  1.792993 -0.863291 -0.010309  1.247203  0.237609   \n",
       "4   2.0 -1.158233  0.877737  1.548718  0.403034 -0.407193  0.095921  0.592941   \n",
       "\n",
       "         V8        V9  ...         V21       V22       V23       V24  \\\n",
       "0  0.098698  0.363787  ...   -0.018307  0.277838 -0.110474  0.066928   \n",
       "1  0.085102 -0.255425  ...   -0.225775 -0.638672  0.101288 -0.339846   \n",
       "2  0.247676 -1.514654  ...    0.247998  0.771679  0.909412 -0.689281   \n",
       "3  0.377436 -1.387024  ...   -0.108300  0.005274 -0.190321 -1.175575   \n",
       "4 -0.270533  0.817739  ...   -0.009431  0.798278 -0.137458  0.141267   \n",
       "\n",
       "        V25       V26       V27       V28  Amount  Class  \n",
       "0  0.128539 -0.189115  0.133558 -0.021053  149.62      0  \n",
       "1  0.167170  0.125895 -0.008983  0.014724    2.69      0  \n",
       "2 -0.327642 -0.139097 -0.055353 -0.059752  378.66      0  \n",
       "3  0.647376 -0.221929  0.062723  0.061458  123.50      0  \n",
       "4 -0.206010  0.502292  0.219422  0.215153   69.99      0  \n",
       "\n",
       "[5 rows x 31 columns]"
      ]
     },
     "execution_count": 4,
     "metadata": {},
     "output_type": "execute_result"
    }
   ],
   "source": [
    "data.head()# Inspect the data"
   ]
  },
  {
   "cell_type": "code",
   "execution_count": 5,
   "metadata": {},
   "outputs": [
    {
     "data": {
      "image/png": "[encoded data removed]",
      "text/plain": [
       "<matplotlib.figure.Figure at 0x15d4d3f2978>"
      ]
     },
     "metadata": {},
     "output_type": "display_data"
    },
    {
     "data": {
      "text/plain": [
       "<matplotlib.figure.Figure at 0x15d52774eb8>"
      ]
     },
     "metadata": {},
     "output_type": "display_data"
    }
   ],
   "source": [
    "%matplotlib inline\n",
    "sns.set_style('whitegrid')\n",
    "fig=plt.figure()\n",
    "sns.violinplot(x='Class',y='Amount',data=data,inner=None,color='lightgray')\n",
    "sns.stripplot(x='Class',y='Amount',data=data,jitter=True,alpha=0.7)\n",
    "plt.title('Amount vs Class')\n",
    "plt.show()\n",
    "plt.gcf().clear()"
   ]
  },
  {
   "cell_type": "markdown",
   "metadata": {},
   "source": [
    "From above visualization, we can see the given data set is highly unbalanced. Only a small portion of given transaction instances is labeld fradulent. To handle an unbalanced calssification task like this. I will present two well used methods down below."
   ]
  },
  {
   "cell_type": "markdown",
   "metadata": {},
   "source": [
    "Firstly, an Algorithmic approach is to use ensemble methods such as boosting, which combine multiple learners by sequentially correcting the mistakes made by previous learners. But before we fit any models, let's first do some preprocessing."
   ]
  },
  {
   "cell_type": "code",
   "execution_count": 6,
   "metadata": {},
   "outputs": [],
   "source": [
    "data_2=data.drop('Class',axis=1)"
   ]
  },
  {
   "cell_type": "code",
   "execution_count": 7,
   "metadata": {},
   "outputs": [],
   "source": [
    "labels=data['Class']"
   ]
  },
  {
   "cell_type": "code",
   "execution_count": 8,
   "metadata": {
    "collapsed": true
   },
   "outputs": [],
   "source": [
    "# Scale all continuous features to the range of (0,1)\n",
    "from sklearn.preprocessing import MinMaxScaler\n",
    "scaler=MinMaxScaler()\n",
    "data_2=scaler.fit_transform(data_2)"
   ]
  },
  {
   "cell_type": "code",
   "execution_count": 9,
   "metadata": {},
   "outputs": [],
   "source": [
    "# Train-Test-Split\n",
    "from sklearn.model_selection import train_test_split\n",
    "x_train,x_test,y_train,y_test=train_test_split(data_2,labels,\n",
    "                                               test_size=0.2,\n",
    "                                            stratify=labels)"
   ]
  },
  {
   "cell_type": "code",
   "execution_count": 10,
   "metadata": {},
   "outputs": [
    {
     "name": "stdout",
     "output_type": "stream",
     "text": [
      "(227845, 30) (56962, 30) (227845,) (56962,)\n"
     ]
    }
   ],
   "source": [
    "print(x_train.shape, x_test.shape,y_train.shape,y_test.shape)"
   ]
  },
  {
   "cell_type": "code",
   "execution_count": 11,
   "metadata": {},
   "outputs": [
    {
     "name": "stdout",
     "output_type": "stream",
     "text": [
      "Percent of fraud: 0.0017\n"
     ]
    }
   ],
   "source": [
    "# Number of Frauds in training data\n",
    "\n",
    "num_fraud_train=sum(y_train==1)\n",
    "num_nonfraud_train=sum(y_train==0)\n",
    "\n",
    "print('Percent of fraud: {:.4f}'.format(float(num_fraud_train/y_train.shape[0])))"
   ]
  },
  {
   "cell_type": "code",
   "execution_count": 12,
   "metadata": {},
   "outputs": [
    {
     "name": "stdout",
     "output_type": "stream",
     "text": [
      "Percent of fraud: 0.0017\n"
     ]
    }
   ],
   "source": [
    "# Number of Frauds in test data\n",
    "\n",
    "\n",
    "num_fraud_test=sum(y_test==1)\n",
    "num_nonfraud_test=sum(y_test==0)\n",
    "\n",
    "print('Percent of fraud: {:.4f}'.format(float(num_fraud_test/y_test.shape[0])))"
   ]
  },
  {
   "cell_type": "markdown",
   "metadata": {},
   "source": [
    "### Light GBM"
   ]
  },
  {
   "cell_type": "code",
   "execution_count": 13,
   "metadata": {},
   "outputs": [],
   "source": [
    "# LightGBM Model as a benchmark\n",
    "\n",
    "params={'task':'train','objective':'binary','boosting':'dart',\n",
    "        'learning_rate':0.1 ,'num_leaves':40,'is_unbalance':True,\n",
    "        'tree_learner':'serial', 'max_depth':-1,'min_data_in_leaf':20,\n",
    "        'min_sum_hessian_in_leaf':1e-3,'feature_fraction':0.8,\n",
    "        'bagging_fraction':0.8,'bagging_freq':30,'max_bin':255\n",
    "    }"
   ]
  },
  {
   "cell_type": "code",
   "execution_count": 14,
   "metadata": {},
   "outputs": [],
   "source": [
    "d_train=lgb.Dataset(x_train,label=y_train)"
   ]
  },
  {
   "cell_type": "code",
   "execution_count": 15,
   "metadata": {},
   "outputs": [],
   "source": [
    "ROUNDS=100\n",
    "bst=lgb.train(params,d_train,ROUNDS)"
   ]
  },
  {
   "cell_type": "code",
   "execution_count": 16,
   "metadata": {},
   "outputs": [
    {
     "data": {
      "text/plain": [
       "<matplotlib.axes._subplots.AxesSubplot at 0x15d51ceee80>"
      ]
     },
     "execution_count": 16,
     "metadata": {},
     "output_type": "execute_result"
    },
    {
     "data": {
      "image/png": "[encoded data removed]",
      "text/plain": [
       "<matplotlib.figure.Figure at 0x15d51ce9320>"
      ]
     },
     "metadata": {},
     "output_type": "display_data"
    }
   ],
   "source": [
    "# Feature importance plot\n",
    "\n",
    "lgb.plot_importance(bst,figsize=(9,20))"
   ]
  },
  {
   "cell_type": "code",
   "execution_count": 17,
   "metadata": {
    "collapsed": true
   },
   "outputs": [],
   "source": [
    "preds=bst.predict(x_test)"
   ]
  },
  {
   "cell_type": "code",
   "execution_count": 18,
   "metadata": {},
   "outputs": [
    {
     "data": {
      "text/plain": [
       "0.99919244408553065"
      ]
     },
     "execution_count": 18,
     "metadata": {},
     "output_type": "execute_result"
    }
   ],
   "source": [
    "# correction rate\n",
    "sum((preds>0.5)==y_test)/y_test.shape[0]"
   ]
  },
  {
   "cell_type": "code",
   "execution_count": 28,
   "metadata": {
    "collapsed": true
   },
   "outputs": [],
   "source": [
    "from sklearn.metrics import roc_curve,auc\n",
    "fpr,tpr,_=roc_curve(np.array(y_test),preds)"
   ]
  },
  {
   "cell_type": "code",
   "execution_count": 29,
   "metadata": {},
   "outputs": [
    {
     "data": {
      "image/png": "[encoded data removed]",
      "text/plain": [
       "<matplotlib.figure.Figure at 0x15d51ccaf98>"
      ]
     },
     "metadata": {},
     "output_type": "display_data"
    },
    {
     "data": {
      "text/plain": [
       "<matplotlib.figure.Figure at 0x15d53e04fd0>"
      ]
     },
     "metadata": {},
     "output_type": "display_data"
    }
   ],
   "source": [
    "# Plot the ROC curve\n",
    "\n",
    "fig=plt.figure()\n",
    "plt.plot(fpr,tpr,color='darkorange',label='ROC Curve')\n",
    "plt.xlabel('False Positive')\n",
    "plt.ylabel('True Positive')\n",
    "plt.plot([0,1],[0,1],linestyle='--')\n",
    "plt.legend(loc='lower right')\n",
    "plt.show()\n",
    "plt.gcf().clear()"
   ]
  },
  {
   "cell_type": "code",
   "execution_count": 30,
   "metadata": {},
   "outputs": [
    {
     "name": "stdout",
     "output_type": "stream",
     "text": [
      "AUC score: 0.958651\n"
     ]
    }
   ],
   "source": [
    "Auc=auc(fpr,tpr)\n",
    "print('AUC score: {:4f}'.format(Auc))"
   ]
  },
  {
   "cell_type": "code",
   "execution_count": 31,
   "metadata": {},
   "outputs": [],
   "source": [
    "fraud_cases=[]\n",
    "for index,l in enumerate(y_test.values):\n",
    "    if l==1:\n",
    "        fraud_cases.append(index)  "
   ]
  },
  {
   "cell_type": "code",
   "execution_count": 32,
   "metadata": {},
   "outputs": [],
   "source": [
    "x_test_fraud=x_test[fraud_cases,:]\n",
    "y_test_fraud=y_test.values[fraud_cases]"
   ]
  },
  {
   "cell_type": "code",
   "execution_count": 33,
   "metadata": {},
   "outputs": [
    {
     "data": {
      "text/plain": [
       "0.86734693877551017"
      ]
     },
     "execution_count": 33,
     "metadata": {},
     "output_type": "execute_result"
    }
   ],
   "source": [
    "# True positive rate\n",
    "preds=bst.predict(x_test_fraud)\n",
    "sum((preds>0.5)==y_test_fraud)/y_test_fraud.shape[0]"
   ]
  },
  {
   "cell_type": "code",
   "execution_count": 56,
   "metadata": {},
   "outputs": [],
   "source": [
    "y_test=np.array(y_test)\n",
    "y_test=y_test.reshape(-1,1)"
   ]
  },
  {
   "cell_type": "markdown",
   "metadata": {},
   "source": [
    "### Feed Forward Neural Networks Using Tensorflow"
   ]
  },
  {
   "cell_type": "markdown",
   "metadata": {},
   "source": [
    "Second approach is to modify the loss function. We can assign a bigger weight towards cases in minority class while calculating the loss, which essentially forces our model to pay more attention towards those minority cases. I will demonstrate this approach with a neural network."
   ]
  },
  {
   "cell_type": "code",
   "execution_count": 34,
   "metadata": {
    "collapsed": true
   },
   "outputs": [],
   "source": [
    "import tensorflow as tf ## Load tnesorflow"
   ]
  },
  {
   "cell_type": "code",
   "execution_count": 36,
   "metadata": {
    "collapsed": true
   },
   "outputs": [],
   "source": [
    "tf.reset_default_graph()"
   ]
  },
  {
   "cell_type": "code",
   "execution_count": 52,
   "metadata": {
    "collapsed": true
   },
   "outputs": [],
   "source": [
    "# generator function to help fetch data batch by batch\n",
    "def get_batches(x,y,bacth_size):\n",
    "    y=np.array(y)\n",
    "    num_batches=x.shape[0]//batch_size\n",
    "    x_batch=x[:num_batches*batch_size,:]\n",
    "    y_batch=y[:num_batches*batch_size]\n",
    "    for i in range(num_batches):\n",
    "        batch_x=x_batch[i:i+batch_size,:]\n",
    "        batch_y=y_batch[i:i+batch_size]\n",
    "        batch_y=batch_y.reshape(-1,1)\n",
    "        class_weight=1/(np.sum(batch_y==1)/batch_y.shape[0])    \n",
    "    yield batch_x,batch_y,class_weight"
   ]
  },
  {
   "cell_type": "code",
   "execution_count": 67,
   "metadata": {},
   "outputs": [],
   "source": [
    "# Build the computational graph\n",
    "graph1=tf.Graph()\n",
    "\n",
    "with graph1.as_default():\n",
    "    \n",
    "    x=tf.placeholder(tf.float32,[None,30],name='input')\n",
    "    y=tf.placeholder(tf.float32,[None,1],name='labels')\n",
    "    class_weights=tf.placeholder(tf.float32)\n",
    "    drop_rate=tf.placeholder(tf.float32)\n",
    "    training=tf.placeholder(tf.bool)\n",
    "    lr=tf.placeholder(tf.float32)\n",
    "    initializer= tf.contrib.layers.variance_scaling_initializer()# Using He initializer for weight initialization\n",
    "    \n",
    "    \n",
    "    with tf.variable_scope('fully_1'):\n",
    "        x1=tf.layers.dense(x,128,kernel_initializer=initializer)\n",
    "        x1=tf.nn.elu(x1)\n",
    "        x1=tf.layers.dropout(x1,rate=drop_rate,training=training)## Apply dropout to regularize our network\n",
    "        \n",
    "    with tf.variable_scope('fully_2'):\n",
    "        x2=tf.layers.dense(x1,256,kernel_initializer=initializer)\n",
    "        x2=tf.nn.elu(x2)\n",
    "        x2=tf.layers.dropout(x2,rate=drop_rate,training=training)\n",
    "    \n",
    "    \n",
    "    with tf.variable_scope('fully_3'):\n",
    "        x3=tf.layers.dense(x2,512,kernel_initializer=initializer)\n",
    "        x3=tf.nn.elu(x3)\n",
    "        x3=tf.layers.dropout(x3,rate=drop_rate,training=training)\n",
    "        \n",
    "    with tf.variable_scope('output'):\n",
    "        logits=tf.layers.dense(x3,1,kernel_initializer=initializer)\n",
    "        Output=tf.nn.sigmoid(logits)\n",
    "    ###Evalution######################################\n",
    "    \n",
    "    with tf.name_scope('Optimizer'):\n",
    "        ## Since the dataset is highly unbalanced, here I will handle his issue by manually assigning\n",
    "        ## weights to each instance in the minibatch, i.e. give the cases in minority class a proportionally\n",
    "        ## higher weigh. We can achieve this by using the tf.nn.weighted_cross_entropy_with_logits. Details\n",
    "        ## regarding this function can be found at \n",
    "        ## https://www.tensorflow.org/api_docs/python/tf/nn/weighted_cross_entropy_with_logits\n",
    "        loss=tf.reduce_mean(tf.nn.weighted_cross_entropy_with_logits(y,logits,class_weights))\n",
    "        optimizer=tf.train.AdamOptimizer(lr,epsilon=0.1)\n",
    "        train_op=optimizer.minimize(loss)\n",
    "        "
   ]
  },
  {
   "cell_type": "code",
   "execution_count": 78,
   "metadata": {},
   "outputs": [
    {
     "name": "stdout",
     "output_type": "stream",
     "text": [
      "Epoch: 0  Train_loss: 1.677960  Test AUC Score: 0.746202\n",
      "Epoch: 1  Train_loss: 1.464788  Test AUC Score: 0.752335\n",
      "Epoch: 2  Train_loss: 1.685808  Test AUC Score: 0.759722\n",
      "Epoch: 3  Train_loss: 1.486562  Test AUC Score: 0.767614\n",
      "Epoch: 4  Train_loss: 1.453003  Test AUC Score: 0.776065\n",
      "Epoch: 5  Train_loss: 1.682655  Test AUC Score: 0.785206\n",
      "Epoch: 6  Train_loss: 1.514924  Test AUC Score: 0.794530\n",
      "Epoch: 7  Train_loss: 1.501305  Test AUC Score: 0.804091\n",
      "Epoch: 8  Train_loss: 1.499618  Test AUC Score: 0.813422\n",
      "Epoch: 9  Train_loss: 1.554272  Test AUC Score: 0.822800\n",
      "Epoch: 10  Train_loss: 1.440997  Test AUC Score: 0.831919\n",
      "Epoch: 11  Train_loss: 1.659788  Test AUC Score: 0.840537\n",
      "Epoch: 12  Train_loss: 1.667895  Test AUC Score: 0.848790\n",
      "Epoch: 13  Train_loss: 1.647949  Test AUC Score: 0.857039\n",
      "Epoch: 14  Train_loss: 1.528591  Test AUC Score: 0.864948\n",
      "Epoch: 15  Train_loss: 1.598614  Test AUC Score: 0.872369\n",
      "Epoch: 16  Train_loss: 1.377520  Test AUC Score: 0.879544\n",
      "Epoch: 17  Train_loss: 1.472619  Test AUC Score: 0.886160\n",
      "Epoch: 18  Train_loss: 1.382132  Test AUC Score: 0.892327\n",
      "Epoch: 19  Train_loss: 1.552208  Test AUC Score: 0.898061\n",
      "Epoch: 20  Train_loss: 1.397574  Test AUC Score: 0.903545\n",
      "Epoch: 21  Train_loss: 1.568161  Test AUC Score: 0.908720\n",
      "Epoch: 22  Train_loss: 1.242585  Test AUC Score: 0.913516\n",
      "Epoch: 23  Train_loss: 1.561918  Test AUC Score: 0.918063\n",
      "Epoch: 24  Train_loss: 1.443504  Test AUC Score: 0.922353\n",
      "Epoch: 25  Train_loss: 1.349439  Test AUC Score: 0.926300\n",
      "Epoch: 26  Train_loss: 1.385546  Test AUC Score: 0.930009\n",
      "Epoch: 27  Train_loss: 1.373593  Test AUC Score: 0.933582\n",
      "Epoch: 28  Train_loss: 1.552456  Test AUC Score: 0.936875\n",
      "Epoch: 29  Train_loss: 1.359311  Test AUC Score: 0.939983\n",
      "Epoch: 30  Train_loss: 1.431832  Test AUC Score: 0.942876\n",
      "Epoch: 31  Train_loss: 1.467079  Test AUC Score: 0.945551\n",
      "Epoch: 32  Train_loss: 1.375388  Test AUC Score: 0.948052\n",
      "Epoch: 33  Train_loss: 1.343997  Test AUC Score: 0.950389\n",
      "Epoch: 34  Train_loss: 1.546865  Test AUC Score: 0.952509\n",
      "Epoch: 35  Train_loss: 1.476287  Test AUC Score: 0.954426\n",
      "Epoch: 36  Train_loss: 1.235981  Test AUC Score: 0.956165\n",
      "Epoch: 37  Train_loss: 1.501730  Test AUC Score: 0.957745\n",
      "Epoch: 38  Train_loss: 1.452767  Test AUC Score: 0.959160\n",
      "Epoch: 39  Train_loss: 1.562593  Test AUC Score: 0.960496\n",
      "Epoch: 40  Train_loss: 1.286179  Test AUC Score: 0.961767\n",
      "Epoch: 41  Train_loss: 1.281179  Test AUC Score: 0.962962\n",
      "Epoch: 42  Train_loss: 1.452152  Test AUC Score: 0.964068\n",
      "Epoch: 43  Train_loss: 1.222471  Test AUC Score: 0.965076\n",
      "Epoch: 44  Train_loss: 1.504218  Test AUC Score: 0.965972\n",
      "Epoch: 45  Train_loss: 1.248537  Test AUC Score: 0.966848\n",
      "Epoch: 46  Train_loss: 1.415918  Test AUC Score: 0.967642\n",
      "Epoch: 47  Train_loss: 1.293489  Test AUC Score: 0.968401\n",
      "Epoch: 48  Train_loss: 1.405433  Test AUC Score: 0.969124\n",
      "Epoch: 49  Train_loss: 1.311926  Test AUC Score: 0.969806\n",
      "Epoch: 50  Train_loss: 1.330614  Test AUC Score: 0.970421\n",
      "Epoch: 51  Train_loss: 1.433672  Test AUC Score: 0.971018\n",
      "Epoch: 52  Train_loss: 1.514327  Test AUC Score: 0.971566\n",
      "Epoch: 53  Train_loss: 1.311506  Test AUC Score: 0.972084\n",
      "Epoch: 54  Train_loss: 1.632269  Test AUC Score: 0.972575\n",
      "Epoch: 55  Train_loss: 1.267136  Test AUC Score: 0.973033\n",
      "Epoch: 56  Train_loss: 1.281165  Test AUC Score: 0.973468\n",
      "Epoch: 57  Train_loss: 1.438511  Test AUC Score: 0.973882\n",
      "Epoch: 58  Train_loss: 1.378852  Test AUC Score: 0.974267\n",
      "Epoch: 59  Train_loss: 1.340660  Test AUC Score: 0.974622\n",
      "Epoch: 60  Train_loss: 1.411614  Test AUC Score: 0.974977\n",
      "Epoch: 61  Train_loss: 1.326862  Test AUC Score: 0.975295\n",
      "Epoch: 62  Train_loss: 1.376093  Test AUC Score: 0.975607\n",
      "Epoch: 63  Train_loss: 1.394627  Test AUC Score: 0.975895\n",
      "Epoch: 64  Train_loss: 1.386342  Test AUC Score: 0.976154\n",
      "Epoch: 65  Train_loss: 1.378895  Test AUC Score: 0.976407\n",
      "Epoch: 66  Train_loss: 1.297846  Test AUC Score: 0.976659\n",
      "Epoch: 67  Train_loss: 1.320500  Test AUC Score: 0.976889\n",
      "Epoch: 68  Train_loss: 1.254949  Test AUC Score: 0.977111\n",
      "Epoch: 69  Train_loss: 1.248391  Test AUC Score: 0.977310\n",
      "Epoch: 70  Train_loss: 1.233689  Test AUC Score: 0.977498\n",
      "Epoch: 71  Train_loss: 1.186090  Test AUC Score: 0.977683\n",
      "Epoch: 72  Train_loss: 1.270250  Test AUC Score: 0.977880\n",
      "Epoch: 73  Train_loss: 1.286565  Test AUC Score: 0.978064\n",
      "Epoch: 74  Train_loss: 1.226937  Test AUC Score: 0.978214\n",
      "Epoch: 75  Train_loss: 1.279221  Test AUC Score: 0.978365\n",
      "Epoch: 76  Train_loss: 1.213027  Test AUC Score: 0.978504\n",
      "Epoch: 77  Train_loss: 1.119714  Test AUC Score: 0.978644\n",
      "Epoch: 78  Train_loss: 1.104796  Test AUC Score: 0.978763\n",
      "Epoch: 79  Train_loss: 1.195261  Test AUC Score: 0.978877\n",
      "Epoch: 80  Train_loss: 1.317087  Test AUC Score: 0.978966\n",
      "Epoch: 81  Train_loss: 1.313866  Test AUC Score: 0.979055\n",
      "Epoch: 82  Train_loss: 1.256910  Test AUC Score: 0.979143\n",
      "Epoch: 83  Train_loss: 1.272882  Test AUC Score: 0.979203\n",
      "Epoch: 84  Train_loss: 1.279790  Test AUC Score: 0.979261\n",
      "Epoch: 85  Train_loss: 1.083539  Test AUC Score: 0.979317\n",
      "Epoch: 86  Train_loss: 1.320830  Test AUC Score: 0.979369\n",
      "Epoch: 87  Train_loss: 1.154838  Test AUC Score: 0.979420\n",
      "Epoch: 88  Train_loss: 1.142544  Test AUC Score: 0.979476\n",
      "Epoch: 89  Train_loss: 1.135902  Test AUC Score: 0.979512\n",
      "Epoch: 90  Train_loss: 1.242622  Test AUC Score: 0.979552\n",
      "Epoch: 91  Train_loss: 1.220874  Test AUC Score: 0.979590\n",
      "Epoch: 92  Train_loss: 1.182384  Test AUC Score: 0.979621\n",
      "Epoch: 93  Train_loss: 1.312703  Test AUC Score: 0.979660\n",
      "Epoch: 94  Train_loss: 1.136940  Test AUC Score: 0.979684\n",
      "Epoch: 95  Train_loss: 1.277523  Test AUC Score: 0.979712\n",
      "Epoch: 96  Train_loss: 1.154392  Test AUC Score: 0.979720\n",
      "Epoch: 97  Train_loss: 1.204662  Test AUC Score: 0.979723\n",
      "Epoch: 98  Train_loss: 1.120690  Test AUC Score: 0.979716\n",
      "Epoch: 99  Train_loss: 1.264118  Test AUC Score: 0.979735\n",
      "Epoch: 100  Train_loss: 1.149182  Test AUC Score: 0.979756\n",
      "Epoch: 101  Train_loss: 1.142193  Test AUC Score: 0.979766\n",
      "Epoch: 102  Train_loss: 1.157832  Test AUC Score: 0.979769\n",
      "Epoch: 103  Train_loss: 1.219501  Test AUC Score: 0.979773\n",
      "Epoch: 104  Train_loss: 1.200435  Test AUC Score: 0.979762\n",
      "Epoch: 105  Train_loss: 1.233642  Test AUC Score: 0.979752\n",
      "Epoch: 106  Train_loss: 1.152074  Test AUC Score: 0.979746\n",
      "Epoch: 107  Train_loss: 1.205126  Test AUC Score: 0.979758\n",
      "Epoch: 108  Train_loss: 1.191508  Test AUC Score: 0.979750\n",
      "Epoch: 109  Train_loss: 1.134161  Test AUC Score: 0.979739\n",
      "Epoch: 110  Train_loss: 1.098687  Test AUC Score: 0.979734\n",
      "Epoch: 111  Train_loss: 1.181363  Test AUC Score: 0.979716\n",
      "Epoch: 112  Train_loss: 1.240416  Test AUC Score: 0.979710\n",
      "Epoch: 113  Train_loss: 1.022979  Test AUC Score: 0.979703\n",
      "Epoch: 114  Train_loss: 1.273189  Test AUC Score: 0.979684\n",
      "Epoch: 115  Train_loss: 1.122280  Test AUC Score: 0.979658\n",
      "Epoch: 116  Train_loss: 1.191424  Test AUC Score: 0.979638\n",
      "Epoch: 117  Train_loss: 1.239217  Test AUC Score: 0.979624\n",
      "Epoch: 118  Train_loss: 0.935372  Test AUC Score: 0.979609\n",
      "Epoch: 119  Train_loss: 1.002855  Test AUC Score: 0.979597\n",
      "Epoch: 120  Train_loss: 1.025458  Test AUC Score: 0.979590\n",
      "Epoch: 121  Train_loss: 1.094551  Test AUC Score: 0.979562\n",
      "Epoch: 122  Train_loss: 1.017557  Test AUC Score: 0.979533\n",
      "Epoch: 123  Train_loss: 1.098091  Test AUC Score: 0.979512\n",
      "Epoch: 124  Train_loss: 1.079548  Test AUC Score: 0.979489\n",
      "Epoch: 125  Train_loss: 1.052302  Test AUC Score: 0.979465\n",
      "Epoch: 126  Train_loss: 0.948538  Test AUC Score: 0.979446\n",
      "Epoch: 127  Train_loss: 1.235792  Test AUC Score: 0.979424\n",
      "Epoch: 128  Train_loss: 1.075861  Test AUC Score: 0.979383\n",
      "Epoch: 129  Train_loss: 1.007706  Test AUC Score: 0.979356\n",
      "Epoch: 130  Train_loss: 1.159821  Test AUC Score: 0.979340\n",
      "Epoch: 131  Train_loss: 1.087217  Test AUC Score: 0.979332\n",
      "Epoch: 132  Train_loss: 1.088518  Test AUC Score: 0.979309\n",
      "Epoch: 133  Train_loss: 1.106801  Test AUC Score: 0.979288\n",
      "Epoch: 134  Train_loss: 1.122597  Test AUC Score: 0.979275\n",
      "Epoch: 135  Train_loss: 1.145739  Test AUC Score: 0.979258\n",
      "Epoch: 136  Train_loss: 1.006480  Test AUC Score: 0.979246\n",
      "Epoch: 137  Train_loss: 1.003833  Test AUC Score: 0.979223\n",
      "Epoch: 138  Train_loss: 1.155240  Test AUC Score: 0.979177\n",
      "Epoch: 139  Train_loss: 0.985923  Test AUC Score: 0.979146\n",
      "Epoch: 140  Train_loss: 1.045604  Test AUC Score: 0.979119\n"
     ]
    },
    {
     "name": "stdout",
     "output_type": "stream",
     "text": [
      "Epoch: 141  Train_loss: 0.992995  Test AUC Score: 0.979088\n",
      "Epoch: 142  Train_loss: 0.944616  Test AUC Score: 0.979080\n",
      "Epoch: 143  Train_loss: 1.037876  Test AUC Score: 0.979053\n",
      "Epoch: 144  Train_loss: 0.972428  Test AUC Score: 0.979024\n",
      "Epoch: 145  Train_loss: 1.099186  Test AUC Score: 0.979013\n",
      "Epoch: 146  Train_loss: 1.099221  Test AUC Score: 0.978998\n",
      "Epoch: 147  Train_loss: 0.909419  Test AUC Score: 0.978999\n",
      "Epoch: 148  Train_loss: 1.039534  Test AUC Score: 0.978987\n",
      "Epoch: 149  Train_loss: 1.132710  Test AUC Score: 0.978981\n",
      "Epoch: 150  Train_loss: 0.943487  Test AUC Score: 0.978966\n",
      "Epoch: 151  Train_loss: 0.997035  Test AUC Score: 0.978959\n",
      "Epoch: 152  Train_loss: 1.111413  Test AUC Score: 0.978976\n",
      "Epoch: 153  Train_loss: 1.043693  Test AUC Score: 0.978976\n",
      "Epoch: 154  Train_loss: 1.021428  Test AUC Score: 0.978954\n",
      "Epoch: 155  Train_loss: 1.049094  Test AUC Score: 0.978924\n",
      "Epoch: 156  Train_loss: 0.955580  Test AUC Score: 0.978909\n",
      "Epoch: 157  Train_loss: 1.024885  Test AUC Score: 0.978877\n",
      "Epoch: 158  Train_loss: 1.105289  Test AUC Score: 0.978838\n",
      "Epoch: 159  Train_loss: 0.891109  Test AUC Score: 0.978802\n",
      "Epoch: 160  Train_loss: 1.019984  Test AUC Score: 0.978758\n",
      "Epoch: 161  Train_loss: 1.031518  Test AUC Score: 0.978719\n",
      "Epoch: 162  Train_loss: 1.236215  Test AUC Score: 0.978679\n",
      "Epoch: 163  Train_loss: 1.193407  Test AUC Score: 0.978639\n",
      "Epoch: 164  Train_loss: 1.050231  Test AUC Score: 0.978605\n",
      "Epoch: 165  Train_loss: 1.023070  Test AUC Score: 0.978552\n",
      "Epoch: 166  Train_loss: 1.085027  Test AUC Score: 0.978509\n",
      "Epoch: 167  Train_loss: 1.104210  Test AUC Score: 0.978468\n",
      "Epoch: 168  Train_loss: 0.876292  Test AUC Score: 0.978422\n",
      "Epoch: 169  Train_loss: 0.957892  Test AUC Score: 0.978383\n",
      "Epoch: 170  Train_loss: 0.961918  Test AUC Score: 0.978349\n",
      "Epoch: 171  Train_loss: 1.081091  Test AUC Score: 0.978320\n",
      "Epoch: 172  Train_loss: 0.994037  Test AUC Score: 0.978292\n",
      "Epoch: 173  Train_loss: 0.882577  Test AUC Score: 0.978265\n",
      "Epoch: 174  Train_loss: 1.029484  Test AUC Score: 0.978232\n",
      "Epoch: 175  Train_loss: 1.078059  Test AUC Score: 0.978202\n",
      "Epoch: 176  Train_loss: 1.055227  Test AUC Score: 0.978174\n",
      "Epoch: 177  Train_loss: 0.876076  Test AUC Score: 0.978134\n",
      "Epoch: 178  Train_loss: 0.972592  Test AUC Score: 0.978096\n",
      "Epoch: 179  Train_loss: 1.026671  Test AUC Score: 0.978063\n",
      "Epoch: 180  Train_loss: 1.007366  Test AUC Score: 0.978012\n",
      "Epoch: 181  Train_loss: 1.000036  Test AUC Score: 0.977963\n",
      "Epoch: 182  Train_loss: 0.955356  Test AUC Score: 0.977917\n",
      "Epoch: 183  Train_loss: 1.025944  Test AUC Score: 0.977869\n",
      "Epoch: 184  Train_loss: 1.078336  Test AUC Score: 0.977809\n",
      "Epoch: 185  Train_loss: 0.942560  Test AUC Score: 0.977753\n",
      "Epoch: 186  Train_loss: 0.913802  Test AUC Score: 0.977702\n",
      "Epoch: 187  Train_loss: 0.916847  Test AUC Score: 0.977634\n",
      "Epoch: 188  Train_loss: 0.857548  Test AUC Score: 0.977573\n",
      "Epoch: 189  Train_loss: 0.973520  Test AUC Score: 0.977529\n",
      "Epoch: 190  Train_loss: 0.919179  Test AUC Score: 0.977491\n",
      "Epoch: 191  Train_loss: 0.898586  Test AUC Score: 0.977443\n",
      "Epoch: 192  Train_loss: 0.908171  Test AUC Score: 0.977388\n",
      "Epoch: 193  Train_loss: 0.957971  Test AUC Score: 0.977334\n",
      "Epoch: 194  Train_loss: 1.030311  Test AUC Score: 0.977289\n",
      "Epoch: 195  Train_loss: 0.942789  Test AUC Score: 0.977241\n",
      "Epoch: 196  Train_loss: 0.968965  Test AUC Score: 0.977197\n",
      "Epoch: 197  Train_loss: 0.993028  Test AUC Score: 0.977151\n",
      "Epoch: 198  Train_loss: 0.903600  Test AUC Score: 0.977102\n",
      "Epoch: 199  Train_loss: 1.028782  Test AUC Score: 0.977059\n",
      "Epoch: 200  Train_loss: 0.955519  Test AUC Score: 0.977019\n",
      "Epoch: 201  Train_loss: 0.886982  Test AUC Score: 0.976988\n",
      "Epoch: 202  Train_loss: 0.873120  Test AUC Score: 0.976956\n",
      "Epoch: 203  Train_loss: 0.922192  Test AUC Score: 0.976921\n",
      "Epoch: 204  Train_loss: 0.903257  Test AUC Score: 0.976892\n",
      "Epoch: 205  Train_loss: 1.034798  Test AUC Score: 0.976854\n",
      "Epoch: 206  Train_loss: 0.922087  Test AUC Score: 0.976828\n",
      "Epoch: 207  Train_loss: 0.898448  Test AUC Score: 0.976795\n",
      "Epoch: 208  Train_loss: 0.874788  Test AUC Score: 0.976755\n",
      "Epoch: 209  Train_loss: 0.992761  Test AUC Score: 0.976724\n",
      "Epoch: 210  Train_loss: 0.910479  Test AUC Score: 0.976698\n",
      "Epoch: 211  Train_loss: 0.980934  Test AUC Score: 0.976669\n",
      "Epoch: 212  Train_loss: 0.934262  Test AUC Score: 0.976640\n",
      "Epoch: 213  Train_loss: 1.020177  Test AUC Score: 0.976613\n",
      "Epoch: 214  Train_loss: 0.893080  Test AUC Score: 0.976580\n",
      "Epoch: 215  Train_loss: 0.947245  Test AUC Score: 0.976552\n",
      "Epoch: 216  Train_loss: 0.940089  Test AUC Score: 0.976531\n",
      "Epoch: 217  Train_loss: 0.859164  Test AUC Score: 0.976515\n",
      "Epoch: 218  Train_loss: 0.960018  Test AUC Score: 0.976502\n",
      "Epoch: 219  Train_loss: 1.024988  Test AUC Score: 0.976480\n",
      "Epoch: 220  Train_loss: 0.929380  Test AUC Score: 0.976454\n",
      "Epoch: 221  Train_loss: 0.923391  Test AUC Score: 0.976433\n",
      "Epoch: 222  Train_loss: 0.925273  Test AUC Score: 0.976401\n",
      "Epoch: 223  Train_loss: 0.929360  Test AUC Score: 0.976368\n",
      "Epoch: 224  Train_loss: 0.824180  Test AUC Score: 0.976347\n",
      "Epoch: 225  Train_loss: 0.980725  Test AUC Score: 0.976320\n",
      "Epoch: 226  Train_loss: 0.932493  Test AUC Score: 0.976296\n",
      "Epoch: 227  Train_loss: 0.859588  Test AUC Score: 0.976274\n",
      "Epoch: 228  Train_loss: 0.935523  Test AUC Score: 0.976256\n",
      "Epoch: 229  Train_loss: 0.803441  Test AUC Score: 0.976229\n",
      "Epoch: 230  Train_loss: 0.864209  Test AUC Score: 0.976219\n",
      "Epoch: 231  Train_loss: 0.945751  Test AUC Score: 0.976216\n",
      "Epoch: 232  Train_loss: 0.962187  Test AUC Score: 0.976210\n",
      "Epoch: 233  Train_loss: 0.944201  Test AUC Score: 0.976213\n",
      "Epoch: 234  Train_loss: 0.832014  Test AUC Score: 0.976222\n",
      "Epoch: 235  Train_loss: 0.824584  Test AUC Score: 0.976226\n",
      "Epoch: 236  Train_loss: 0.811324  Test AUC Score: 0.976234\n",
      "Epoch: 237  Train_loss: 0.933373  Test AUC Score: 0.976238\n",
      "Epoch: 238  Train_loss: 0.864412  Test AUC Score: 0.976247\n",
      "Epoch: 239  Train_loss: 0.894705  Test AUC Score: 0.976256\n",
      "Epoch: 240  Train_loss: 1.007210  Test AUC Score: 0.976255\n",
      "Epoch: 241  Train_loss: 0.847934  Test AUC Score: 0.976259\n",
      "Epoch: 242  Train_loss: 0.990707  Test AUC Score: 0.976259\n",
      "Epoch: 243  Train_loss: 0.921494  Test AUC Score: 0.976258\n",
      "Epoch: 244  Train_loss: 0.966962  Test AUC Score: 0.976248\n",
      "Epoch: 245  Train_loss: 0.852575  Test AUC Score: 0.976247\n",
      "Epoch: 246  Train_loss: 0.847840  Test AUC Score: 0.976234\n",
      "Epoch: 247  Train_loss: 0.978868  Test AUC Score: 0.976217\n",
      "Epoch: 248  Train_loss: 0.951938  Test AUC Score: 0.976202\n",
      "Epoch: 249  Train_loss: 0.961020  Test AUC Score: 0.976201\n",
      "Epoch: 250  Train_loss: 0.961445  Test AUC Score: 0.976210\n",
      "Epoch: 251  Train_loss: 0.920042  Test AUC Score: 0.976205\n",
      "Epoch: 252  Train_loss: 0.822398  Test AUC Score: 0.976198\n",
      "Epoch: 253  Train_loss: 0.931843  Test AUC Score: 0.976190\n",
      "Epoch: 254  Train_loss: 0.834429  Test AUC Score: 0.976184\n",
      "Epoch: 255  Train_loss: 0.884529  Test AUC Score: 0.976174\n",
      "Epoch: 256  Train_loss: 0.858924  Test AUC Score: 0.976160\n",
      "Epoch: 257  Train_loss: 0.764621  Test AUC Score: 0.976153\n",
      "Epoch: 258  Train_loss: 0.978499  Test AUC Score: 0.976148\n",
      "Epoch: 259  Train_loss: 0.949349  Test AUC Score: 0.976139\n",
      "Epoch: 260  Train_loss: 0.848019  Test AUC Score: 0.976129\n",
      "Epoch: 261  Train_loss: 0.914266  Test AUC Score: 0.976109\n",
      "Epoch: 262  Train_loss: 0.851787  Test AUC Score: 0.976093\n",
      "Epoch: 263  Train_loss: 0.905516  Test AUC Score: 0.976082\n",
      "Epoch: 264  Train_loss: 0.900352  Test AUC Score: 0.976078\n",
      "Epoch: 265  Train_loss: 0.799118  Test AUC Score: 0.976065\n",
      "Epoch: 266  Train_loss: 0.758213  Test AUC Score: 0.976060\n",
      "Epoch: 267  Train_loss: 0.966807  Test AUC Score: 0.976053\n",
      "Epoch: 268  Train_loss: 0.871104  Test AUC Score: 0.976046\n",
      "Epoch: 269  Train_loss: 0.841792  Test AUC Score: 0.976044\n",
      "Epoch: 270  Train_loss: 0.724138  Test AUC Score: 0.976044\n",
      "Epoch: 271  Train_loss: 0.829624  Test AUC Score: 0.976045\n",
      "Epoch: 272  Train_loss: 0.824677  Test AUC Score: 0.976043\n",
      "Epoch: 273  Train_loss: 0.790632  Test AUC Score: 0.976029\n",
      "Epoch: 274  Train_loss: 0.856050  Test AUC Score: 0.976021\n",
      "Epoch: 275  Train_loss: 0.779433  Test AUC Score: 0.976020\n",
      "Epoch: 276  Train_loss: 0.762462  Test AUC Score: 0.976012\n",
      "Epoch: 277  Train_loss: 0.957135  Test AUC Score: 0.976006\n",
      "Epoch: 278  Train_loss: 0.755995  Test AUC Score: 0.975998\n",
      "Epoch: 279  Train_loss: 0.801981  Test AUC Score: 0.975998\n",
      "Epoch: 280  Train_loss: 0.932475  Test AUC Score: 0.976004\n",
      "Epoch: 281  Train_loss: 0.803192  Test AUC Score: 0.976005\n"
     ]
    },
    {
     "name": "stdout",
     "output_type": "stream",
     "text": [
      "Epoch: 282  Train_loss: 0.839128  Test AUC Score: 0.976003\n",
      "Epoch: 283  Train_loss: 0.869563  Test AUC Score: 0.976006\n",
      "Epoch: 284  Train_loss: 0.802785  Test AUC Score: 0.976007\n",
      "Epoch: 285  Train_loss: 0.856766  Test AUC Score: 0.976004\n",
      "Epoch: 286  Train_loss: 0.818805  Test AUC Score: 0.976000\n",
      "Epoch: 287  Train_loss: 0.789394  Test AUC Score: 0.976003\n",
      "Epoch: 288  Train_loss: 0.791831  Test AUC Score: 0.976002\n",
      "Epoch: 289  Train_loss: 0.953095  Test AUC Score: 0.976002\n",
      "Epoch: 290  Train_loss: 0.903932  Test AUC Score: 0.975993\n",
      "Epoch: 291  Train_loss: 0.746510  Test AUC Score: 0.975994\n",
      "Epoch: 292  Train_loss: 0.927531  Test AUC Score: 0.976003\n",
      "Epoch: 293  Train_loss: 0.819422  Test AUC Score: 0.976007\n",
      "Epoch: 294  Train_loss: 0.835126  Test AUC Score: 0.976012\n",
      "Epoch: 295  Train_loss: 0.785712  Test AUC Score: 0.976007\n",
      "Epoch: 296  Train_loss: 0.890306  Test AUC Score: 0.976005\n",
      "Epoch: 297  Train_loss: 0.883628  Test AUC Score: 0.976002\n",
      "Epoch: 298  Train_loss: 0.901964  Test AUC Score: 0.975984\n",
      "Epoch: 299  Train_loss: 0.851993  Test AUC Score: 0.975961\n",
      "Epoch: 300  Train_loss: 0.862544  Test AUC Score: 0.975939\n",
      "Epoch: 301  Train_loss: 0.729466  Test AUC Score: 0.975920\n",
      "Epoch: 302  Train_loss: 0.773814  Test AUC Score: 0.975902\n",
      "Epoch: 303  Train_loss: 0.799314  Test AUC Score: 0.975889\n",
      "Epoch: 304  Train_loss: 0.786429  Test AUC Score: 0.975863\n",
      "Epoch: 305  Train_loss: 0.790940  Test AUC Score: 0.975838\n",
      "Epoch: 306  Train_loss: 0.788157  Test AUC Score: 0.975811\n",
      "Epoch: 307  Train_loss: 0.819457  Test AUC Score: 0.975788\n",
      "Epoch: 308  Train_loss: 0.772519  Test AUC Score: 0.975755\n",
      "Epoch: 309  Train_loss: 0.804921  Test AUC Score: 0.975714\n",
      "Epoch: 310  Train_loss: 0.772870  Test AUC Score: 0.975670\n",
      "Epoch: 311  Train_loss: 0.719906  Test AUC Score: 0.975629\n",
      "Epoch: 312  Train_loss: 0.839636  Test AUC Score: 0.975591\n",
      "Epoch: 313  Train_loss: 0.827343  Test AUC Score: 0.975557\n",
      "Epoch: 314  Train_loss: 0.809711  Test AUC Score: 0.975533\n",
      "Epoch: 315  Train_loss: 0.825403  Test AUC Score: 0.975514\n",
      "Epoch: 316  Train_loss: 0.772156  Test AUC Score: 0.975498\n",
      "Epoch: 317  Train_loss: 0.829920  Test AUC Score: 0.975487\n",
      "Epoch: 318  Train_loss: 0.824628  Test AUC Score: 0.975475\n",
      "Epoch: 319  Train_loss: 0.800015  Test AUC Score: 0.975467\n",
      "Epoch: 320  Train_loss: 0.785524  Test AUC Score: 0.975454\n",
      "Epoch: 321  Train_loss: 0.721884  Test AUC Score: 0.975446\n",
      "Epoch: 322  Train_loss: 0.693993  Test AUC Score: 0.975448\n",
      "Epoch: 323  Train_loss: 0.788920  Test AUC Score: 0.975450\n",
      "Epoch: 324  Train_loss: 0.839811  Test AUC Score: 0.975450\n",
      "Epoch: 325  Train_loss: 0.768618  Test AUC Score: 0.975440\n",
      "Epoch: 326  Train_loss: 0.831134  Test AUC Score: 0.975432\n",
      "Epoch: 327  Train_loss: 0.782510  Test AUC Score: 0.975418\n",
      "Epoch: 328  Train_loss: 0.676361  Test AUC Score: 0.975388\n",
      "Epoch: 329  Train_loss: 0.737192  Test AUC Score: 0.975375\n",
      "Epoch: 330  Train_loss: 0.770110  Test AUC Score: 0.975360\n",
      "Epoch: 331  Train_loss: 0.735806  Test AUC Score: 0.975350\n",
      "Epoch: 332  Train_loss: 0.879997  Test AUC Score: 0.975339\n",
      "Epoch: 333  Train_loss: 0.749304  Test AUC Score: 0.975329\n",
      "Epoch: 334  Train_loss: 0.744378  Test AUC Score: 0.975325\n",
      "Epoch: 335  Train_loss: 0.772951  Test AUC Score: 0.975320\n",
      "Epoch: 336  Train_loss: 0.723004  Test AUC Score: 0.975314\n",
      "Epoch: 337  Train_loss: 0.710741  Test AUC Score: 0.975319\n",
      "Epoch: 338  Train_loss: 0.847196  Test AUC Score: 0.975321\n",
      "Epoch: 339  Train_loss: 0.866552  Test AUC Score: 0.975321\n",
      "Epoch: 340  Train_loss: 0.890532  Test AUC Score: 0.975324\n",
      "Epoch: 341  Train_loss: 0.751266  Test AUC Score: 0.975325\n",
      "Epoch: 342  Train_loss: 0.795950  Test AUC Score: 0.975329\n",
      "Epoch: 343  Train_loss: 0.835019  Test AUC Score: 0.975321\n",
      "Epoch: 344  Train_loss: 0.746520  Test AUC Score: 0.975300\n",
      "Epoch: 345  Train_loss: 0.717400  Test AUC Score: 0.975281\n",
      "Epoch: 346  Train_loss: 0.780687  Test AUC Score: 0.975266\n",
      "Epoch: 347  Train_loss: 0.847497  Test AUC Score: 0.975253\n",
      "Epoch: 348  Train_loss: 0.862649  Test AUC Score: 0.975229\n",
      "Epoch: 349  Train_loss: 0.676651  Test AUC Score: 0.975207\n",
      "Epoch: 350  Train_loss: 0.676733  Test AUC Score: 0.975192\n",
      "Epoch: 351  Train_loss: 0.812826  Test AUC Score: 0.975177\n",
      "Epoch: 352  Train_loss: 0.692196  Test AUC Score: 0.975170\n",
      "Epoch: 353  Train_loss: 0.712183  Test AUC Score: 0.975164\n",
      "Epoch: 354  Train_loss: 0.705784  Test AUC Score: 0.975164\n",
      "Epoch: 355  Train_loss: 0.729496  Test AUC Score: 0.975159\n",
      "Epoch: 356  Train_loss: 0.800600  Test AUC Score: 0.975150\n",
      "Epoch: 357  Train_loss: 0.708673  Test AUC Score: 0.975135\n",
      "Epoch: 358  Train_loss: 0.802241  Test AUC Score: 0.975128\n",
      "Epoch: 359  Train_loss: 0.829268  Test AUC Score: 0.975129\n",
      "Epoch: 360  Train_loss: 0.669295  Test AUC Score: 0.975130\n",
      "Epoch: 361  Train_loss: 0.739441  Test AUC Score: 0.975137\n",
      "Epoch: 362  Train_loss: 0.754297  Test AUC Score: 0.975137\n",
      "Epoch: 363  Train_loss: 0.732791  Test AUC Score: 0.975141\n",
      "Epoch: 364  Train_loss: 0.769089  Test AUC Score: 0.975141\n",
      "Epoch: 365  Train_loss: 0.917761  Test AUC Score: 0.975133\n",
      "Epoch: 366  Train_loss: 0.769470  Test AUC Score: 0.975121\n",
      "Epoch: 367  Train_loss: 0.789450  Test AUC Score: 0.975103\n",
      "Epoch: 368  Train_loss: 0.720601  Test AUC Score: 0.975086\n",
      "Epoch: 369  Train_loss: 0.802937  Test AUC Score: 0.975069\n",
      "Epoch: 370  Train_loss: 0.688611  Test AUC Score: 0.975053\n",
      "Epoch: 371  Train_loss: 0.836051  Test AUC Score: 0.975043\n",
      "Epoch: 372  Train_loss: 0.668987  Test AUC Score: 0.975032\n",
      "Epoch: 373  Train_loss: 0.794897  Test AUC Score: 0.975025\n",
      "Epoch: 374  Train_loss: 0.762335  Test AUC Score: 0.975026\n",
      "Epoch: 375  Train_loss: 0.773408  Test AUC Score: 0.975027\n",
      "Epoch: 376  Train_loss: 0.741475  Test AUC Score: 0.975026\n",
      "Epoch: 377  Train_loss: 0.867332  Test AUC Score: 0.975025\n",
      "Epoch: 378  Train_loss: 0.665192  Test AUC Score: 0.975026\n",
      "Epoch: 379  Train_loss: 0.727365  Test AUC Score: 0.975029\n",
      "Epoch: 380  Train_loss: 0.671822  Test AUC Score: 0.975030\n",
      "Epoch: 381  Train_loss: 0.832877  Test AUC Score: 0.975045\n",
      "Epoch: 382  Train_loss: 0.629227  Test AUC Score: 0.975056\n",
      "Epoch: 383  Train_loss: 0.774022  Test AUC Score: 0.975060\n",
      "Epoch: 384  Train_loss: 0.772103  Test AUC Score: 0.975062\n",
      "Epoch: 385  Train_loss: 0.703107  Test AUC Score: 0.975056\n",
      "Epoch: 386  Train_loss: 0.705197  Test AUC Score: 0.975056\n",
      "Epoch: 387  Train_loss: 0.659911  Test AUC Score: 0.975053\n",
      "Epoch: 388  Train_loss: 0.719732  Test AUC Score: 0.975058\n",
      "Epoch: 389  Train_loss: 0.674518  Test AUC Score: 0.975060\n",
      "Epoch: 390  Train_loss: 0.635060  Test AUC Score: 0.975062\n",
      "Epoch: 391  Train_loss: 0.803227  Test AUC Score: 0.975059\n",
      "Epoch: 392  Train_loss: 0.724561  Test AUC Score: 0.975062\n",
      "Epoch: 393  Train_loss: 0.746950  Test AUC Score: 0.975065\n",
      "Epoch: 394  Train_loss: 0.637850  Test AUC Score: 0.975064\n",
      "Epoch: 395  Train_loss: 0.763165  Test AUC Score: 0.975069\n",
      "Epoch: 396  Train_loss: 0.879029  Test AUC Score: 0.975081\n",
      "Epoch: 397  Train_loss: 0.610044  Test AUC Score: 0.975087\n",
      "Epoch: 398  Train_loss: 0.713850  Test AUC Score: 0.975102\n",
      "Epoch: 399  Train_loss: 0.794129  Test AUC Score: 0.975110\n",
      "Epoch: 400  Train_loss: 0.665718  Test AUC Score: 0.975116\n",
      "Epoch: 401  Train_loss: 0.737109  Test AUC Score: 0.975129\n",
      "Epoch: 402  Train_loss: 0.686356  Test AUC Score: 0.975137\n",
      "Epoch: 403  Train_loss: 0.737483  Test AUC Score: 0.975147\n",
      "Epoch: 404  Train_loss: 0.821231  Test AUC Score: 0.975154\n",
      "Epoch: 405  Train_loss: 0.821211  Test AUC Score: 0.975165\n",
      "Epoch: 406  Train_loss: 0.662741  Test AUC Score: 0.975174\n",
      "Epoch: 407  Train_loss: 0.744814  Test AUC Score: 0.975179\n",
      "Epoch: 408  Train_loss: 0.777860  Test AUC Score: 0.975191\n",
      "Epoch: 409  Train_loss: 0.668180  Test AUC Score: 0.975195\n",
      "Epoch: 410  Train_loss: 0.714893  Test AUC Score: 0.975201\n",
      "Epoch: 411  Train_loss: 0.757146  Test AUC Score: 0.975196\n",
      "Epoch: 412  Train_loss: 0.671101  Test AUC Score: 0.975199\n",
      "Epoch: 413  Train_loss: 0.707221  Test AUC Score: 0.975196\n",
      "Epoch: 414  Train_loss: 0.626288  Test AUC Score: 0.975191\n",
      "Epoch: 415  Train_loss: 0.796952  Test AUC Score: 0.975188\n",
      "Epoch: 416  Train_loss: 0.781217  Test AUC Score: 0.975183\n",
      "Epoch: 417  Train_loss: 0.579813  Test AUC Score: 0.975179\n",
      "Epoch: 418  Train_loss: 0.745473  Test AUC Score: 0.975183\n",
      "Epoch: 419  Train_loss: 0.727291  Test AUC Score: 0.975192\n",
      "Epoch: 420  Train_loss: 0.706435  Test AUC Score: 0.975188\n",
      "Epoch: 421  Train_loss: 0.805293  Test AUC Score: 0.975184\n",
      "Epoch: 422  Train_loss: 0.632669  Test AUC Score: 0.975171\n"
     ]
    },
    {
     "name": "stdout",
     "output_type": "stream",
     "text": [
      "Epoch: 423  Train_loss: 0.748250  Test AUC Score: 0.975158\n",
      "Epoch: 424  Train_loss: 0.593480  Test AUC Score: 0.975144\n",
      "Epoch: 425  Train_loss: 0.679778  Test AUC Score: 0.975127\n",
      "Epoch: 426  Train_loss: 0.746619  Test AUC Score: 0.975112\n",
      "Epoch: 427  Train_loss: 0.828180  Test AUC Score: 0.975095\n",
      "Epoch: 428  Train_loss: 0.738894  Test AUC Score: 0.975088\n",
      "Epoch: 429  Train_loss: 0.730545  Test AUC Score: 0.975081\n",
      "Epoch: 430  Train_loss: 0.721879  Test AUC Score: 0.975069\n",
      "Epoch: 431  Train_loss: 0.749078  Test AUC Score: 0.975071\n",
      "Epoch: 432  Train_loss: 0.701445  Test AUC Score: 0.975074\n",
      "Epoch: 433  Train_loss: 0.810724  Test AUC Score: 0.975073\n",
      "Epoch: 434  Train_loss: 0.681377  Test AUC Score: 0.975076\n",
      "Epoch: 435  Train_loss: 0.631449  Test AUC Score: 0.975084\n",
      "Epoch: 436  Train_loss: 0.714049  Test AUC Score: 0.975085\n",
      "Epoch: 437  Train_loss: 0.656760  Test AUC Score: 0.975077\n",
      "Epoch: 438  Train_loss: 0.565009  Test AUC Score: 0.975067\n",
      "Epoch: 439  Train_loss: 0.667043  Test AUC Score: 0.975054\n",
      "Epoch: 440  Train_loss: 0.751250  Test AUC Score: 0.975039\n",
      "Epoch: 441  Train_loss: 0.710849  Test AUC Score: 0.975026\n",
      "Epoch: 442  Train_loss: 0.605223  Test AUC Score: 0.975020\n",
      "Epoch: 443  Train_loss: 0.729376  Test AUC Score: 0.975018\n",
      "Epoch: 444  Train_loss: 0.710369  Test AUC Score: 0.975019\n",
      "Epoch: 445  Train_loss: 0.769478  Test AUC Score: 0.975018\n",
      "Epoch: 446  Train_loss: 0.729512  Test AUC Score: 0.975014\n",
      "Epoch: 447  Train_loss: 0.633447  Test AUC Score: 0.975010\n",
      "Epoch: 448  Train_loss: 0.729970  Test AUC Score: 0.975011\n",
      "Epoch: 449  Train_loss: 0.709644  Test AUC Score: 0.975016\n",
      "Epoch: 450  Train_loss: 0.708373  Test AUC Score: 0.975029\n",
      "Epoch: 451  Train_loss: 0.654093  Test AUC Score: 0.975039\n",
      "Epoch: 452  Train_loss: 0.648944  Test AUC Score: 0.975045\n",
      "Epoch: 453  Train_loss: 0.690941  Test AUC Score: 0.975060\n",
      "Epoch: 454  Train_loss: 0.677806  Test AUC Score: 0.975071\n",
      "Epoch: 455  Train_loss: 0.733045  Test AUC Score: 0.975083\n",
      "Epoch: 456  Train_loss: 0.697622  Test AUC Score: 0.975094\n",
      "Epoch: 457  Train_loss: 0.679268  Test AUC Score: 0.975107\n",
      "Epoch: 458  Train_loss: 0.788869  Test AUC Score: 0.975115\n",
      "Epoch: 459  Train_loss: 0.670639  Test AUC Score: 0.975125\n",
      "Epoch: 460  Train_loss: 0.645325  Test AUC Score: 0.975133\n",
      "Epoch: 461  Train_loss: 0.778405  Test AUC Score: 0.975135\n",
      "Epoch: 462  Train_loss: 0.704508  Test AUC Score: 0.975134\n",
      "Epoch: 463  Train_loss: 0.687821  Test AUC Score: 0.975132\n",
      "Epoch: 464  Train_loss: 0.727108  Test AUC Score: 0.975123\n",
      "Epoch: 465  Train_loss: 0.648460  Test AUC Score: 0.975112\n",
      "Epoch: 466  Train_loss: 0.819323  Test AUC Score: 0.975097\n",
      "Epoch: 467  Train_loss: 0.794317  Test AUC Score: 0.975086\n",
      "Epoch: 468  Train_loss: 0.702676  Test AUC Score: 0.975068\n",
      "Epoch: 469  Train_loss: 0.672816  Test AUC Score: 0.975055\n",
      "Epoch: 470  Train_loss: 0.640107  Test AUC Score: 0.975036\n",
      "Epoch: 471  Train_loss: 0.744116  Test AUC Score: 0.975027\n",
      "Epoch: 472  Train_loss: 0.747702  Test AUC Score: 0.975017\n",
      "Epoch: 473  Train_loss: 0.677421  Test AUC Score: 0.975013\n",
      "Epoch: 474  Train_loss: 0.689285  Test AUC Score: 0.975004\n",
      "Epoch: 475  Train_loss: 0.683309  Test AUC Score: 0.974994\n",
      "Epoch: 476  Train_loss: 0.615103  Test AUC Score: 0.974987\n",
      "Epoch: 477  Train_loss: 0.752652  Test AUC Score: 0.974988\n",
      "Epoch: 478  Train_loss: 0.727201  Test AUC Score: 0.974979\n",
      "Epoch: 479  Train_loss: 0.746232  Test AUC Score: 0.974975\n",
      "Epoch: 480  Train_loss: 0.664053  Test AUC Score: 0.974976\n",
      "Epoch: 481  Train_loss: 0.676622  Test AUC Score: 0.974979\n",
      "Epoch: 482  Train_loss: 0.648939  Test AUC Score: 0.974984\n",
      "Epoch: 483  Train_loss: 0.628655  Test AUC Score: 0.974987\n",
      "Epoch: 484  Train_loss: 0.710192  Test AUC Score: 0.974988\n",
      "Epoch: 485  Train_loss: 0.656953  Test AUC Score: 0.974992\n",
      "Epoch: 486  Train_loss: 0.606187  Test AUC Score: 0.974984\n",
      "Epoch: 487  Train_loss: 0.797024  Test AUC Score: 0.974976\n",
      "Epoch: 488  Train_loss: 0.599774  Test AUC Score: 0.974973\n",
      "Epoch: 489  Train_loss: 0.650793  Test AUC Score: 0.974971\n",
      "Epoch: 490  Train_loss: 0.639182  Test AUC Score: 0.974970\n",
      "Epoch: 491  Train_loss: 0.638585  Test AUC Score: 0.974962\n",
      "Epoch: 492  Train_loss: 0.616201  Test AUC Score: 0.974959\n",
      "Epoch: 493  Train_loss: 0.647098  Test AUC Score: 0.974958\n",
      "Epoch: 494  Train_loss: 0.770548  Test AUC Score: 0.974957\n",
      "Epoch: 495  Train_loss: 0.700400  Test AUC Score: 0.974960\n",
      "Epoch: 496  Train_loss: 0.702406  Test AUC Score: 0.974964\n",
      "Epoch: 497  Train_loss: 0.639286  Test AUC Score: 0.974970\n",
      "Epoch: 498  Train_loss: 0.655824  Test AUC Score: 0.974972\n",
      "Epoch: 499  Train_loss: 0.514032  Test AUC Score: 0.974972\n"
     ]
    }
   ],
   "source": [
    "# Train and test the network\n",
    "\n",
    "# Hyper parameters\n",
    "save_dir='./checkpoints'\n",
    "n_epoch=500\n",
    "batch_size=20000\n",
    "learning_rate=0.0008\n",
    "droprate=0.2\n",
    "\n",
    "with tf.Session(graph=graph1) as sess:\n",
    "    \n",
    "    sess.run(tf.global_variables_initializer())\n",
    "    saver=tf.train.Saver(max_to_keep=1)\n",
    "    for epoch in range(n_epoch):\n",
    "        for batch_x,batch_y,class_weight in get_batches(x_train,y_train,batch_size):\n",
    "            sess.run(train_op,feed_dict={x:batch_x,\n",
    "                                         y:batch_y,\n",
    "                                         class_weights:class_weight,\n",
    "                                         training:True,\n",
    "                                         lr:learning_rate,\n",
    "                                         drop_rate:droprate})\n",
    "            train_loss=sess.run(loss,{x:batch_x,y:batch_y,class_weights:class_weight,training:True,\n",
    "                           lr:learning_rate,drop_rate:droprate})\n",
    "        probs=sess.run(Output,{x:x_test,y:y_test,training:False,drop_rate:droprate})\n",
    "        fpr,tpr,_=roc_curve(y_test,probs)\n",
    "        auc_score=auc(fpr,tpr)\n",
    "        print('Epoch: {} '.format(epoch),'Train_loss: {:4f} '.format(train_loss),'Test AUC Score: {:4f}'.format(auc_score))\n",
    "            \n",
    "    \n",
    "    saver.save(sess,save_dir)# save the model\n",
    "    \n",
    "            \n"
   ]
  },
  {
   "cell_type": "markdown",
   "metadata": {},
   "source": [
    "From above results, we can see with a little bit tuning, a 3-hidden layer network can push the AUC score above 0.97 with ease."
   ]
  },
  {
   "cell_type": "code",
   "execution_count": null,
   "metadata": {
    "collapsed": true
   },
   "outputs": [],
   "source": []
  }
 ],
 "metadata": {
  "kernelspec": {
   "display_name": "Python 3",
   "language": "python",
   "name": "python3"
  },
  "language_info": {
   "codemirror_mode": {
    "name": "ipython",
    "version": 3
   },
   "file_extension": ".py",
   "mimetype": "text/x-python",
   "name": "python",
   "nbconvert_exporter": "python",
   "pygments_lexer": "ipython3",
   "version": "3.5.2"
  }
 },
 "nbformat": 4,
 "nbformat_minor": 2
}
